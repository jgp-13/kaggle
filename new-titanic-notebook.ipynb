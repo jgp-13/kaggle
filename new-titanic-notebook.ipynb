{
 "cells": [
  {
   "cell_type": "code",
   "execution_count": 1,
   "id": "963a9d41",
   "metadata": {
    "_cell_guid": "b1076dfc-b9ad-4769-8c92-a6c4dae69d19",
    "_uuid": "8f2839f25d086af736a60e9eeb907d3b93b6e0e5",
    "execution": {
     "iopub.execute_input": "2024-03-21T09:45:31.006052Z",
     "iopub.status.busy": "2024-03-21T09:45:31.005568Z",
     "iopub.status.idle": "2024-03-21T09:45:33.813239Z",
     "shell.execute_reply": "2024-03-21T09:45:33.811071Z"
    },
    "papermill": {
     "duration": 2.838579,
     "end_time": "2024-03-21T09:45:33.815954",
     "exception": false,
     "start_time": "2024-03-21T09:45:30.977375",
     "status": "completed"
    },
    "tags": []
   },
   "outputs": [
    {
     "name": "stdout",
     "output_type": "stream",
     "text": [
      "/kaggle/input/titanic [] train.csv /kaggle/input/titanic/train.csv\n",
      "/kaggle/input/titanic [] test.csv /kaggle/input/titanic/test.csv\n",
      "/kaggle/input/titanic [] gender_submission.csv /kaggle/input/titanic/gender_submission.csv\n",
      "The current working directory is: /kaggle/working\n"
     ]
    }
   ],
   "source": [
    "# This Python 3 environment comes with many helpful analytics libraries installed\n",
    "# It is defined by the kaggle/python Docker image: https://github.com/kaggle/docker-python\n",
    "# For example, here's several helpful packages to load\n",
    "%matplotlib inline\n",
    "import numpy as np # linear algebra\n",
    "import pandas as pd # data processing, CSV file I/O (e.g. pd.read_csv)\n",
    "import matplotlib.pyplot as plt\n",
    "import seaborn as sns\n",
    "import re\n",
    "sns.set()\n",
    "\n",
    "# Input data files are available in the read-only \"../input/\" directory\n",
    "# For example, running this (by clicking run or pressing Shift+Enter) will list all files under the input directory\n",
    "\n",
    "import os\n",
    "for dirname, _, filenames in os.walk('/kaggle/input'):\n",
    "    for filename in filenames:\n",
    "        print(dirname, _,filename, os.path.join(dirname, filename))\n",
    "\n",
    "current_directory = os.getcwd()\n",
    "\n",
    "print(\"The current working directory is:\", current_directory)\n",
    "# You can write up to 20GB to the current directory (/kaggle/working/) that gets preserved as output when you create a version using \"Save & Run All\" \n",
    "# You can also write temporary files to /kaggle/temp/, but they won't be saved outside of the current session"
   ]
  },
  {
   "cell_type": "code",
   "execution_count": 2,
   "id": "46b3fc72",
   "metadata": {
    "execution": {
     "iopub.execute_input": "2024-03-21T09:45:33.873175Z",
     "iopub.status.busy": "2024-03-21T09:45:33.872644Z",
     "iopub.status.idle": "2024-03-21T09:45:34.672713Z",
     "shell.execute_reply": "2024-03-21T09:45:34.671096Z"
    },
    "papermill": {
     "duration": 0.832444,
     "end_time": "2024-03-21T09:45:34.675828",
     "exception": false,
     "start_time": "2024-03-21T09:45:33.843384",
     "status": "completed"
    },
    "tags": []
   },
   "outputs": [],
   "source": [
    "# data analysis and wrangling\n",
    "import pandas as pd\n",
    "import numpy as np\n",
    "import random as rnd\n",
    "\n",
    "# visualization\n",
    "import seaborn as sns\n",
    "import matplotlib.pyplot as plt\n",
    "%matplotlib inline\n",
    "\n",
    "# machine learning\n",
    "from sklearn.linear_model import LogisticRegression\n",
    "from sklearn.svm import SVC, LinearSVC\n",
    "from sklearn.ensemble import RandomForestClassifier\n",
    "from sklearn.neighbors import KNeighborsClassifier\n",
    "from sklearn.naive_bayes import GaussianNB\n",
    "from sklearn.linear_model import Perceptron\n",
    "from sklearn.linear_model import SGDClassifier\n",
    "from sklearn.tree import DecisionTreeClassifier"
   ]
  },
  {
   "cell_type": "markdown",
   "id": "98e24664",
   "metadata": {
    "papermill": {
     "duration": 0.025982,
     "end_time": "2024-03-21T09:45:34.730312",
     "exception": false,
     "start_time": "2024-03-21T09:45:34.704330",
     "status": "completed"
    },
    "tags": []
   },
   "source": [
    "# Question and problem definition"
   ]
  },
  {
   "cell_type": "markdown",
   "id": "fac62372",
   "metadata": {
    "papermill": {
     "duration": 0.026984,
     "end_time": "2024-03-21T09:45:34.785401",
     "exception": false,
     "start_time": "2024-03-21T09:45:34.758417",
     "status": "completed"
    },
    "tags": []
   },
   "source": [
    "## Acquire data"
   ]
  },
  {
   "cell_type": "code",
   "execution_count": 3,
   "id": "2c22a7d1",
   "metadata": {
    "execution": {
     "iopub.execute_input": "2024-03-21T09:45:34.840480Z",
     "iopub.status.busy": "2024-03-21T09:45:34.840059Z",
     "iopub.status.idle": "2024-03-21T09:45:34.881275Z",
     "shell.execute_reply": "2024-03-21T09:45:34.880139Z"
    },
    "papermill": {
     "duration": 0.071984,
     "end_time": "2024-03-21T09:45:34.884152",
     "exception": false,
     "start_time": "2024-03-21T09:45:34.812168",
     "status": "completed"
    },
    "tags": []
   },
   "outputs": [],
   "source": [
    "train_df = pd.read_csv('../input/titanic/train.csv')\n",
    "train_df.name ='train_df'\n",
    "test_df = pd.read_csv('../input/titanic/test.csv')\n",
    "test_df.name = 'test_df'\n",
    "combine = [train_df, test_df]"
   ]
  },
  {
   "cell_type": "code",
   "execution_count": null,
   "id": "2a7c2f2d",
   "metadata": {
    "papermill": {
     "duration": 0.026313,
     "end_time": "2024-03-21T09:45:34.937021",
     "exception": false,
     "start_time": "2024-03-21T09:45:34.910708",
     "status": "completed"
    },
    "tags": []
   },
   "outputs": [],
   "source": []
  },
  {
   "cell_type": "code",
   "execution_count": 4,
   "id": "2a306a0b",
   "metadata": {
    "execution": {
     "iopub.execute_input": "2024-03-21T09:45:34.990530Z",
     "iopub.status.busy": "2024-03-21T09:45:34.990128Z",
     "iopub.status.idle": "2024-03-21T09:45:34.995416Z",
     "shell.execute_reply": "2024-03-21T09:45:34.994608Z"
    },
    "papermill": {
     "duration": 0.035104,
     "end_time": "2024-03-21T09:45:34.998026",
     "exception": false,
     "start_time": "2024-03-21T09:45:34.962922",
     "status": "completed"
    },
    "tags": []
   },
   "outputs": [
    {
     "name": "stdout",
     "output_type": "stream",
     "text": [
      "['PassengerId' 'Survived' 'Pclass' 'Name' 'Sex' 'Age' 'SibSp' 'Parch'\n",
      " 'Ticket' 'Fare' 'Cabin' 'Embarked']\n"
     ]
    }
   ],
   "source": [
    "print(train_df.columns.values)"
   ]
  },
  {
   "cell_type": "markdown",
   "id": "a334c585",
   "metadata": {
    "papermill": {
     "duration": 0.025805,
     "end_time": "2024-03-21T09:45:35.050975",
     "exception": false,
     "start_time": "2024-03-21T09:45:35.025170",
     "status": "completed"
    },
    "tags": []
   },
   "source": [
    "* Categorical\n",
    "    * Nominal\n",
    "        * Name\n",
    "        * Sex\n",
    "        * Ticket\n",
    "        * Cabin\n",
    "        * Embarked\n",
    "    * Ordinal\n",
    "        * Pclass\n",
    "        * PassengerId \n",
    "* Numerical\n",
    "    * Continuous\n",
    "        * Age \n",
    "        * Fare\n",
    "    * Discrete\n",
    "        * Survived \n",
    "        * SibSp \n",
    "        * Parch"
   ]
  },
  {
   "cell_type": "markdown",
   "id": "716b40fa",
   "metadata": {
    "papermill": {
     "duration": 0.026235,
     "end_time": "2024-03-21T09:45:35.103336",
     "exception": false,
     "start_time": "2024-03-21T09:45:35.077101",
     "status": "completed"
    },
    "tags": []
   },
   "source": [
    "**Which features are mixed data types?**\n",
    "\n",
    "Numerical, alphanumeric data within same feature. These are candidates for correcting goal.\n",
    "\n",
    "Ticket is a mix of numeric and alphanumeric data types. Cabin is alphanumeric.\n",
    "\n",
    "\n",
    "**errors or typos?**\n",
    "\n",
    "This is **harder to review** for a large dataset, however reviewing a few samples from a smaller dataset may just tell us outright, which features may require correcting.\n",
    "\n",
    "Name feature may contain errors or typos as there are several ways used to describe a name including titles, round brackets, and quotes used for alternative or short names. **i.e. Gomez, Dr. Josue**\n",
    "\n",
    "**blank, null or empty values?**\n",
    "\n",
    "These will require correcting.\n",
    "\n",
    "Cabin > Age > Embarked features contain a number of null values in that order for the training dataset.<br>\n",
    "Cabin > Age are incomplete in case of test dataset.\n",
    "\n",
    "**What are the data types for various features?**\n",
    "\n",
    "Helping us during converting goal.\n",
    "\n",
    "Seven features are integer or floats. Six in case of test dataset.\n",
    "Five features are strings (object).\n",
    "\n",
    "**What is the distribution of numerical feature values across the samples?**\n",
    "\n",
    "This helps us determine, among other early insights, how representative is the training dataset of the actual problem domain.\n",
    "\n",
    "* Total samples are 891 or 40\\% of the actual number of passengers on board the Titanic (2,224).\n",
    "* **Survived is a categorical feature with 0 or 1 values.**\n",
    "* Around 38\\% samples survived representative of the actual survival rate at 32\\%.\n",
    "* Most passengers (\\> 75\\%) did not travel with parents or children.\n",
    "* Nearly 30\\% of the passengers had siblings and/or spouse aboard.\n",
    "* Fares varied significantly with few passengers (\\<1\\%) paying as high as \\$512.\n",
    "* Few elderly passengers (\\<1%) within age range 65-80."
   ]
  },
  {
   "cell_type": "code",
   "execution_count": 5,
   "id": "e37ab3ea",
   "metadata": {
    "execution": {
     "iopub.execute_input": "2024-03-21T09:45:35.160812Z",
     "iopub.status.busy": "2024-03-21T09:45:35.159849Z",
     "iopub.status.idle": "2024-03-21T09:45:35.219720Z",
     "shell.execute_reply": "2024-03-21T09:45:35.218853Z"
    },
    "papermill": {
     "duration": 0.092444,
     "end_time": "2024-03-21T09:45:35.221887",
     "exception": false,
     "start_time": "2024-03-21T09:45:35.129443",
     "status": "completed"
    },
    "tags": []
   },
   "outputs": [
    {
     "data": {
      "text/html": [
       "<div>\n",
       "<style scoped>\n",
       "    .dataframe tbody tr th:only-of-type {\n",
       "        vertical-align: middle;\n",
       "    }\n",
       "\n",
       "    .dataframe tbody tr th {\n",
       "        vertical-align: top;\n",
       "    }\n",
       "\n",
       "    .dataframe thead th {\n",
       "        text-align: right;\n",
       "    }\n",
       "</style>\n",
       "<table border=\"1\" class=\"dataframe\">\n",
       "  <thead>\n",
       "    <tr style=\"text-align: right;\">\n",
       "      <th></th>\n",
       "      <th>PassengerId</th>\n",
       "      <th>Survived</th>\n",
       "      <th>Pclass</th>\n",
       "      <th>Age</th>\n",
       "      <th>SibSp</th>\n",
       "      <th>Parch</th>\n",
       "      <th>Fare</th>\n",
       "    </tr>\n",
       "  </thead>\n",
       "  <tbody>\n",
       "    <tr>\n",
       "      <th>count</th>\n",
       "      <td>891.000000</td>\n",
       "      <td>891.000000</td>\n",
       "      <td>891.000000</td>\n",
       "      <td>714.000000</td>\n",
       "      <td>891.000000</td>\n",
       "      <td>891.000000</td>\n",
       "      <td>891.000000</td>\n",
       "    </tr>\n",
       "    <tr>\n",
       "      <th>mean</th>\n",
       "      <td>446.000000</td>\n",
       "      <td>0.383838</td>\n",
       "      <td>2.308642</td>\n",
       "      <td>29.699118</td>\n",
       "      <td>0.523008</td>\n",
       "      <td>0.381594</td>\n",
       "      <td>32.204208</td>\n",
       "    </tr>\n",
       "    <tr>\n",
       "      <th>std</th>\n",
       "      <td>257.353842</td>\n",
       "      <td>0.486592</td>\n",
       "      <td>0.836071</td>\n",
       "      <td>14.526497</td>\n",
       "      <td>1.102743</td>\n",
       "      <td>0.806057</td>\n",
       "      <td>49.693429</td>\n",
       "    </tr>\n",
       "    <tr>\n",
       "      <th>min</th>\n",
       "      <td>1.000000</td>\n",
       "      <td>0.000000</td>\n",
       "      <td>1.000000</td>\n",
       "      <td>0.420000</td>\n",
       "      <td>0.000000</td>\n",
       "      <td>0.000000</td>\n",
       "      <td>0.000000</td>\n",
       "    </tr>\n",
       "    <tr>\n",
       "      <th>25%</th>\n",
       "      <td>223.500000</td>\n",
       "      <td>0.000000</td>\n",
       "      <td>2.000000</td>\n",
       "      <td>20.125000</td>\n",
       "      <td>0.000000</td>\n",
       "      <td>0.000000</td>\n",
       "      <td>7.910400</td>\n",
       "    </tr>\n",
       "    <tr>\n",
       "      <th>50%</th>\n",
       "      <td>446.000000</td>\n",
       "      <td>0.000000</td>\n",
       "      <td>3.000000</td>\n",
       "      <td>28.000000</td>\n",
       "      <td>0.000000</td>\n",
       "      <td>0.000000</td>\n",
       "      <td>14.454200</td>\n",
       "    </tr>\n",
       "    <tr>\n",
       "      <th>75%</th>\n",
       "      <td>668.500000</td>\n",
       "      <td>1.000000</td>\n",
       "      <td>3.000000</td>\n",
       "      <td>38.000000</td>\n",
       "      <td>1.000000</td>\n",
       "      <td>0.000000</td>\n",
       "      <td>31.000000</td>\n",
       "    </tr>\n",
       "    <tr>\n",
       "      <th>max</th>\n",
       "      <td>891.000000</td>\n",
       "      <td>1.000000</td>\n",
       "      <td>3.000000</td>\n",
       "      <td>80.000000</td>\n",
       "      <td>8.000000</td>\n",
       "      <td>6.000000</td>\n",
       "      <td>512.329200</td>\n",
       "    </tr>\n",
       "  </tbody>\n",
       "</table>\n",
       "</div>"
      ],
      "text/plain": [
       "       PassengerId    Survived      Pclass         Age       SibSp  \\\n",
       "count   891.000000  891.000000  891.000000  714.000000  891.000000   \n",
       "mean    446.000000    0.383838    2.308642   29.699118    0.523008   \n",
       "std     257.353842    0.486592    0.836071   14.526497    1.102743   \n",
       "min       1.000000    0.000000    1.000000    0.420000    0.000000   \n",
       "25%     223.500000    0.000000    2.000000   20.125000    0.000000   \n",
       "50%     446.000000    0.000000    3.000000   28.000000    0.000000   \n",
       "75%     668.500000    1.000000    3.000000   38.000000    1.000000   \n",
       "max     891.000000    1.000000    3.000000   80.000000    8.000000   \n",
       "\n",
       "            Parch        Fare  \n",
       "count  891.000000  891.000000  \n",
       "mean     0.381594   32.204208  \n",
       "std      0.806057   49.693429  \n",
       "min      0.000000    0.000000  \n",
       "25%      0.000000    7.910400  \n",
       "50%      0.000000   14.454200  \n",
       "75%      0.000000   31.000000  \n",
       "max      6.000000  512.329200  "
      ]
     },
     "execution_count": 5,
     "metadata": {},
     "output_type": "execute_result"
    }
   ],
   "source": [
    "train_df.describe()\n",
    "# Review survived rate using `percentiles=[.61, .62]` knowing our problem description mentions 38% survival rate.\n",
    "# Review Parch distribution using `percentiles=[.75, .8]`\n",
    "# SibSp distribution `[.68, .69]`\n",
    "# Age and Fare `[.1, .2, .3, .4, .5, .6, .7, .8, .9, .99]`"
   ]
  },
  {
   "cell_type": "markdown",
   "id": "8c987a0a",
   "metadata": {
    "papermill": {
     "duration": 0.105943,
     "end_time": "2024-03-21T09:45:35.354672",
     "exception": false,
     "start_time": "2024-03-21T09:45:35.248729",
     "status": "completed"
    },
    "tags": []
   },
   "source": [
    "**categorical features?**\n",
    "\n",
    "* Names are unique across the dataset (count=unique=891)\n",
    "* Sex variable as two possible values with 65% male (top=male, freq=577/count=891).\n",
    "* Cabin values have several dupicates across samples. Alternatively several passengers shared a cabin.\n",
    "* Embarked takes three possible values. S port used by most passengers (top=S)\n",
    "* Ticket feature has high ratio (22%) of duplicate values (unique=681)."
   ]
  },
  {
   "cell_type": "code",
   "execution_count": 6,
   "id": "4bd87292",
   "metadata": {
    "execution": {
     "iopub.execute_input": "2024-03-21T09:45:35.410305Z",
     "iopub.status.busy": "2024-03-21T09:45:35.409285Z",
     "iopub.status.idle": "2024-03-21T09:45:35.438387Z",
     "shell.execute_reply": "2024-03-21T09:45:35.437124Z"
    },
    "papermill": {
     "duration": 0.059456,
     "end_time": "2024-03-21T09:45:35.440784",
     "exception": false,
     "start_time": "2024-03-21T09:45:35.381328",
     "status": "completed"
    },
    "tags": []
   },
   "outputs": [
    {
     "data": {
      "text/html": [
       "<div>\n",
       "<style scoped>\n",
       "    .dataframe tbody tr th:only-of-type {\n",
       "        vertical-align: middle;\n",
       "    }\n",
       "\n",
       "    .dataframe tbody tr th {\n",
       "        vertical-align: top;\n",
       "    }\n",
       "\n",
       "    .dataframe thead th {\n",
       "        text-align: right;\n",
       "    }\n",
       "</style>\n",
       "<table border=\"1\" class=\"dataframe\">\n",
       "  <thead>\n",
       "    <tr style=\"text-align: right;\">\n",
       "      <th></th>\n",
       "      <th>Name</th>\n",
       "      <th>Sex</th>\n",
       "      <th>Ticket</th>\n",
       "      <th>Cabin</th>\n",
       "      <th>Embarked</th>\n",
       "    </tr>\n",
       "  </thead>\n",
       "  <tbody>\n",
       "    <tr>\n",
       "      <th>count</th>\n",
       "      <td>891</td>\n",
       "      <td>891</td>\n",
       "      <td>891</td>\n",
       "      <td>204</td>\n",
       "      <td>889</td>\n",
       "    </tr>\n",
       "    <tr>\n",
       "      <th>unique</th>\n",
       "      <td>891</td>\n",
       "      <td>2</td>\n",
       "      <td>681</td>\n",
       "      <td>147</td>\n",
       "      <td>3</td>\n",
       "    </tr>\n",
       "    <tr>\n",
       "      <th>top</th>\n",
       "      <td>Braund, Mr. Owen Harris</td>\n",
       "      <td>male</td>\n",
       "      <td>347082</td>\n",
       "      <td>B96 B98</td>\n",
       "      <td>S</td>\n",
       "    </tr>\n",
       "    <tr>\n",
       "      <th>freq</th>\n",
       "      <td>1</td>\n",
       "      <td>577</td>\n",
       "      <td>7</td>\n",
       "      <td>4</td>\n",
       "      <td>644</td>\n",
       "    </tr>\n",
       "  </tbody>\n",
       "</table>\n",
       "</div>"
      ],
      "text/plain": [
       "                           Name   Sex  Ticket    Cabin Embarked\n",
       "count                       891   891     891      204      889\n",
       "unique                      891     2     681      147        3\n",
       "top     Braund, Mr. Owen Harris  male  347082  B96 B98        S\n",
       "freq                          1   577       7        4      644"
      ]
     },
     "execution_count": 6,
     "metadata": {},
     "output_type": "execute_result"
    }
   ],
   "source": [
    "train_df.describe(include=['O']) # 'O'(Python) objects  \n",
    "\n",
    "# link: https://numpy.org/doc/stable/reference/arrays.dtypes.html"
   ]
  },
  {
   "cell_type": "markdown",
   "id": "27d4ae66",
   "metadata": {
    "papermill": {
     "duration": 0.026481,
     "end_time": "2024-03-21T09:45:35.494557",
     "exception": false,
     "start_time": "2024-03-21T09:45:35.468076",
     "status": "completed"
    },
    "tags": []
   },
   "source": [
    "## Assumtions based on data analysis\n",
    "We arrive at following assumptions based on data analysis done so far. We may ***validate*** these assumptions further before taking appropriate actions.\n",
    "\n",
    "**Workflow goals**\n",
    "\n",
    "* Classifying<br>\n",
    "We may also add to our assumptions based on the problem description noted earlier.<br>\n",
    "    1. Women (Sex=female) were more likely to have survived.<br>\n",
    "    2. Children (Age\\<?) were more likely to have survived.<br>\n",
    "    3. The upper-class passengers (Pclass=1) were more likely to have survived. \n",
    "* Correlating<br>We want to know how well does each feature correlate with Survival. We want to do this early in our project and match these quick correlations with modelled correlations later in the project.\n",
    "* Completing\n",
    "    1. Complete Age feature as it is **definitely** correlated to survival.\n",
    "    2. Complete Embarked. it may correlate with survival or another feature.\n",
    "* Correcting\n",
    "    1. Ticket may - dropped - high ratio of duplicates (22%) and may not be a correlation Ticket and survival.\n",
    "    2. Cabin may - dropped - highly incomplete or many null values.\n",
    "    3. PassengerId - dropped - does not contribute to survival.\n",
    "    4. Name - dropped - relatively non-standard, may not contribute directly to survival.\n",
    "* Creating\n",
    "    1. **Family** based on **Parch** and **SibSp**.\n",
    "    2. engineer the Name to extract **Title** as a new feature.\n",
    "    3. **Age bands**. continous -> ordinal categorical feature.\n",
    "    4. **Fare range** feature.\n",
    "* Charting\n",
    "* Converting"
   ]
  },
  {
   "cell_type": "markdown",
   "id": "b0f10f2f",
   "metadata": {
    "papermill": {
     "duration": 0.027883,
     "end_time": "2024-03-21T09:45:35.557708",
     "exception": false,
     "start_time": "2024-03-21T09:45:35.529825",
     "status": "completed"
    },
    "tags": []
   },
   "source": [
    "## Analyse by Pivoting features\n",
    "To confirm some of our observations and assumptions, we can quickly analyze our feature correlations by **pivoting features** against each other. \n",
    "We can *only* do so at this stage for features which *do not have any empty values*. It also makes sense doing so only for features which are *categorical (Sex), ordinal (Pclass) or discrete (SibSp, Parch)* type.\n",
    "\n",
    "**Pclass** significant correlation (>0.5) among Pclass=1 and Survived (classifying #3). => include in our model.<br>\n",
    "**Sex** We confirm Sex=female had very high survival rate at 74% (classifying #1).<br>\n",
    "**SibSp and Parch** These features have zero correlation for certain values. best to derive a set of features from these individual features (creating #1)."
   ]
  },
  {
   "cell_type": "code",
   "execution_count": 7,
   "id": "4424f267",
   "metadata": {
    "execution": {
     "iopub.execute_input": "2024-03-21T09:45:35.614893Z",
     "iopub.status.busy": "2024-03-21T09:45:35.614478Z",
     "iopub.status.idle": "2024-03-21T09:45:35.637236Z",
     "shell.execute_reply": "2024-03-21T09:45:35.636299Z"
    },
    "papermill": {
     "duration": 0.053637,
     "end_time": "2024-03-21T09:45:35.639376",
     "exception": false,
     "start_time": "2024-03-21T09:45:35.585739",
     "status": "completed"
    },
    "tags": []
   },
   "outputs": [
    {
     "data": {
      "text/html": [
       "<div>\n",
       "<style scoped>\n",
       "    .dataframe tbody tr th:only-of-type {\n",
       "        vertical-align: middle;\n",
       "    }\n",
       "\n",
       "    .dataframe tbody tr th {\n",
       "        vertical-align: top;\n",
       "    }\n",
       "\n",
       "    .dataframe thead th {\n",
       "        text-align: right;\n",
       "    }\n",
       "</style>\n",
       "<table border=\"1\" class=\"dataframe\">\n",
       "  <thead>\n",
       "    <tr style=\"text-align: right;\">\n",
       "      <th></th>\n",
       "      <th>Pclass</th>\n",
       "      <th>Survived</th>\n",
       "    </tr>\n",
       "  </thead>\n",
       "  <tbody>\n",
       "    <tr>\n",
       "      <th>0</th>\n",
       "      <td>1</td>\n",
       "      <td>0.629630</td>\n",
       "    </tr>\n",
       "    <tr>\n",
       "      <th>1</th>\n",
       "      <td>2</td>\n",
       "      <td>0.472826</td>\n",
       "    </tr>\n",
       "    <tr>\n",
       "      <th>2</th>\n",
       "      <td>3</td>\n",
       "      <td>0.242363</td>\n",
       "    </tr>\n",
       "  </tbody>\n",
       "</table>\n",
       "</div>"
      ],
      "text/plain": [
       "   Pclass  Survived\n",
       "0       1  0.629630\n",
       "1       2  0.472826\n",
       "2       3  0.242363"
      ]
     },
     "execution_count": 7,
     "metadata": {},
     "output_type": "execute_result"
    }
   ],
   "source": [
    "train_df[['Pclass', 'Survived']].groupby(['Pclass'], as_index=False).mean().sort_values(by='Survived', ascending=False)"
   ]
  },
  {
   "cell_type": "code",
   "execution_count": 8,
   "id": "82697cc2",
   "metadata": {
    "execution": {
     "iopub.execute_input": "2024-03-21T09:45:35.696512Z",
     "iopub.status.busy": "2024-03-21T09:45:35.695780Z",
     "iopub.status.idle": "2024-03-21T09:45:35.714012Z",
     "shell.execute_reply": "2024-03-21T09:45:35.712731Z"
    },
    "papermill": {
     "duration": 0.049663,
     "end_time": "2024-03-21T09:45:35.716590",
     "exception": false,
     "start_time": "2024-03-21T09:45:35.666927",
     "status": "completed"
    },
    "tags": []
   },
   "outputs": [
    {
     "data": {
      "text/html": [
       "<div>\n",
       "<style scoped>\n",
       "    .dataframe tbody tr th:only-of-type {\n",
       "        vertical-align: middle;\n",
       "    }\n",
       "\n",
       "    .dataframe tbody tr th {\n",
       "        vertical-align: top;\n",
       "    }\n",
       "\n",
       "    .dataframe thead th {\n",
       "        text-align: right;\n",
       "    }\n",
       "</style>\n",
       "<table border=\"1\" class=\"dataframe\">\n",
       "  <thead>\n",
       "    <tr style=\"text-align: right;\">\n",
       "      <th></th>\n",
       "      <th>Sex</th>\n",
       "      <th>Survived</th>\n",
       "    </tr>\n",
       "  </thead>\n",
       "  <tbody>\n",
       "    <tr>\n",
       "      <th>0</th>\n",
       "      <td>female</td>\n",
       "      <td>0.742038</td>\n",
       "    </tr>\n",
       "    <tr>\n",
       "      <th>1</th>\n",
       "      <td>male</td>\n",
       "      <td>0.188908</td>\n",
       "    </tr>\n",
       "  </tbody>\n",
       "</table>\n",
       "</div>"
      ],
      "text/plain": [
       "      Sex  Survived\n",
       "0  female  0.742038\n",
       "1    male  0.188908"
      ]
     },
     "execution_count": 8,
     "metadata": {},
     "output_type": "execute_result"
    }
   ],
   "source": [
    "train_df[[\"Sex\", \"Survived\"]].groupby(['Sex'], as_index=False).mean().sort_values(by='Survived', ascending=False)"
   ]
  },
  {
   "cell_type": "code",
   "execution_count": 9,
   "id": "151c88ac",
   "metadata": {
    "execution": {
     "iopub.execute_input": "2024-03-21T09:45:35.773751Z",
     "iopub.status.busy": "2024-03-21T09:45:35.773333Z",
     "iopub.status.idle": "2024-03-21T09:45:35.790732Z",
     "shell.execute_reply": "2024-03-21T09:45:35.789715Z"
    },
    "papermill": {
     "duration": 0.048888,
     "end_time": "2024-03-21T09:45:35.793065",
     "exception": false,
     "start_time": "2024-03-21T09:45:35.744177",
     "status": "completed"
    },
    "tags": []
   },
   "outputs": [
    {
     "data": {
      "text/html": [
       "<div>\n",
       "<style scoped>\n",
       "    .dataframe tbody tr th:only-of-type {\n",
       "        vertical-align: middle;\n",
       "    }\n",
       "\n",
       "    .dataframe tbody tr th {\n",
       "        vertical-align: top;\n",
       "    }\n",
       "\n",
       "    .dataframe thead th {\n",
       "        text-align: right;\n",
       "    }\n",
       "</style>\n",
       "<table border=\"1\" class=\"dataframe\">\n",
       "  <thead>\n",
       "    <tr style=\"text-align: right;\">\n",
       "      <th></th>\n",
       "      <th>SibSp</th>\n",
       "      <th>Survived</th>\n",
       "    </tr>\n",
       "  </thead>\n",
       "  <tbody>\n",
       "    <tr>\n",
       "      <th>1</th>\n",
       "      <td>1</td>\n",
       "      <td>0.535885</td>\n",
       "    </tr>\n",
       "    <tr>\n",
       "      <th>2</th>\n",
       "      <td>2</td>\n",
       "      <td>0.464286</td>\n",
       "    </tr>\n",
       "    <tr>\n",
       "      <th>0</th>\n",
       "      <td>0</td>\n",
       "      <td>0.345395</td>\n",
       "    </tr>\n",
       "    <tr>\n",
       "      <th>3</th>\n",
       "      <td>3</td>\n",
       "      <td>0.250000</td>\n",
       "    </tr>\n",
       "    <tr>\n",
       "      <th>4</th>\n",
       "      <td>4</td>\n",
       "      <td>0.166667</td>\n",
       "    </tr>\n",
       "    <tr>\n",
       "      <th>5</th>\n",
       "      <td>5</td>\n",
       "      <td>0.000000</td>\n",
       "    </tr>\n",
       "    <tr>\n",
       "      <th>6</th>\n",
       "      <td>8</td>\n",
       "      <td>0.000000</td>\n",
       "    </tr>\n",
       "  </tbody>\n",
       "</table>\n",
       "</div>"
      ],
      "text/plain": [
       "   SibSp  Survived\n",
       "1      1  0.535885\n",
       "2      2  0.464286\n",
       "0      0  0.345395\n",
       "3      3  0.250000\n",
       "4      4  0.166667\n",
       "5      5  0.000000\n",
       "6      8  0.000000"
      ]
     },
     "execution_count": 9,
     "metadata": {},
     "output_type": "execute_result"
    }
   ],
   "source": [
    "train_df[[\"SibSp\", \"Survived\"]].groupby(['SibSp'], as_index=False).mean().sort_values(by='Survived', ascending=False)"
   ]
  },
  {
   "cell_type": "code",
   "execution_count": 10,
   "id": "2d5a85a1",
   "metadata": {
    "execution": {
     "iopub.execute_input": "2024-03-21T09:45:35.851251Z",
     "iopub.status.busy": "2024-03-21T09:45:35.850624Z",
     "iopub.status.idle": "2024-03-21T09:45:35.866819Z",
     "shell.execute_reply": "2024-03-21T09:45:35.865687Z"
    },
    "papermill": {
     "duration": 0.048077,
     "end_time": "2024-03-21T09:45:35.869336",
     "exception": false,
     "start_time": "2024-03-21T09:45:35.821259",
     "status": "completed"
    },
    "tags": []
   },
   "outputs": [
    {
     "data": {
      "text/html": [
       "<div>\n",
       "<style scoped>\n",
       "    .dataframe tbody tr th:only-of-type {\n",
       "        vertical-align: middle;\n",
       "    }\n",
       "\n",
       "    .dataframe tbody tr th {\n",
       "        vertical-align: top;\n",
       "    }\n",
       "\n",
       "    .dataframe thead th {\n",
       "        text-align: right;\n",
       "    }\n",
       "</style>\n",
       "<table border=\"1\" class=\"dataframe\">\n",
       "  <thead>\n",
       "    <tr style=\"text-align: right;\">\n",
       "      <th></th>\n",
       "      <th>Parch</th>\n",
       "      <th>Survived</th>\n",
       "    </tr>\n",
       "  </thead>\n",
       "  <tbody>\n",
       "    <tr>\n",
       "      <th>3</th>\n",
       "      <td>3</td>\n",
       "      <td>0.600000</td>\n",
       "    </tr>\n",
       "    <tr>\n",
       "      <th>1</th>\n",
       "      <td>1</td>\n",
       "      <td>0.550847</td>\n",
       "    </tr>\n",
       "    <tr>\n",
       "      <th>2</th>\n",
       "      <td>2</td>\n",
       "      <td>0.500000</td>\n",
       "    </tr>\n",
       "    <tr>\n",
       "      <th>0</th>\n",
       "      <td>0</td>\n",
       "      <td>0.343658</td>\n",
       "    </tr>\n",
       "    <tr>\n",
       "      <th>5</th>\n",
       "      <td>5</td>\n",
       "      <td>0.200000</td>\n",
       "    </tr>\n",
       "    <tr>\n",
       "      <th>4</th>\n",
       "      <td>4</td>\n",
       "      <td>0.000000</td>\n",
       "    </tr>\n",
       "    <tr>\n",
       "      <th>6</th>\n",
       "      <td>6</td>\n",
       "      <td>0.000000</td>\n",
       "    </tr>\n",
       "  </tbody>\n",
       "</table>\n",
       "</div>"
      ],
      "text/plain": [
       "   Parch  Survived\n",
       "3      3  0.600000\n",
       "1      1  0.550847\n",
       "2      2  0.500000\n",
       "0      0  0.343658\n",
       "5      5  0.200000\n",
       "4      4  0.000000\n",
       "6      6  0.000000"
      ]
     },
     "execution_count": 10,
     "metadata": {},
     "output_type": "execute_result"
    }
   ],
   "source": [
    "train_df[[\"Parch\", \"Survived\"]].groupby(['Parch'], as_index=False).mean().sort_values(by='Survived', ascending=False)"
   ]
  },
  {
   "cell_type": "markdown",
   "id": "0c2e126c",
   "metadata": {
    "papermill": {
     "duration": 0.036035,
     "end_time": "2024-03-21T09:45:35.934235",
     "exception": false,
     "start_time": "2024-03-21T09:45:35.898200",
     "status": "completed"
    },
    "tags": []
   },
   "source": [
    "## Analyze by visualizing data\n",
    "### Correlating numerical features\n",
    "\n",
    "*histogram chart* for analyzing **continous numerical** variables like Age where banding or ranges will help identify useful patterns. The histogram can indicate distribution of samples using automatically defined bins or equally ranged bands. This helps us answer questions relating to specific bands (Did infants have better survival rate?)\n",
    "\n",
    "**Observations.**\n",
    "\n",
    "* Infants (Age <=4) had high survival rate.\n",
    "* Oldest passengers (Age = 80) survived.\n",
    "* Large number of 15-25 year olds did not survive.\n",
    "* Most passengers are in 15-35 age range.\n",
    "\n",
    "**Decisions.**\n",
    "\n",
    "This simple analysis confirms our assumptions as decisions for subsequent workflow stages.\n",
    "\n",
    "* Age (our assumption classifying #2) in our model training.\n",
    "* Complete the Age feature (completing #1).\n",
    "* band age groups (creating #3)."
   ]
  },
  {
   "cell_type": "code",
   "execution_count": 11,
   "id": "43f508d7",
   "metadata": {
    "execution": {
     "iopub.execute_input": "2024-03-21T09:45:35.995788Z",
     "iopub.status.busy": "2024-03-21T09:45:35.995332Z",
     "iopub.status.idle": "2024-03-21T09:45:37.175450Z",
     "shell.execute_reply": "2024-03-21T09:45:37.174181Z"
    },
    "papermill": {
     "duration": 1.214967,
     "end_time": "2024-03-21T09:45:37.178444",
     "exception": false,
     "start_time": "2024-03-21T09:45:35.963477",
     "status": "completed"
    },
    "tags": []
   },
   "outputs": [
    {
     "data": {
      "text/plain": [
       "<seaborn.axisgrid.FacetGrid at 0x7a673a35f970>"
      ]
     },
     "execution_count": 11,
     "metadata": {},
     "output_type": "execute_result"
    },
    {
     "data": {
      "image/png": "[encoded data removed]",
      "text/plain": [
       "<Figure size 600x300 with 2 Axes>"
      ]
     },
     "metadata": {},
     "output_type": "display_data"
    }
   ],
   "source": [
    "g = sns.FacetGrid(train_df, col='Survived') # Makes the matrix of plots, like subplots\n",
    "g.map(plt.hist, 'Age', bins=20)"
   ]
  },
  {
   "cell_type": "markdown",
   "id": "032f4dc6",
   "metadata": {
    "papermill": {
     "duration": 0.028252,
     "end_time": "2024-03-21T09:45:37.237863",
     "exception": false,
     "start_time": "2024-03-21T09:45:37.209611",
     "status": "completed"
    },
    "tags": []
   },
   "source": [
    "### Correlating numerical and ordinal features\n",
    "We can combine multiple features for identifying correlations using a single plot. This can be done with numerical and categorical features which have numeric values.\n",
    "\n",
    "**Observations.**\n",
    "\n",
    "* Pclass=3 had most passengers, however most did not survive. Confirms our classifying assumption #2.\n",
    "Infant passengers in Pclass=2 and Pclass=3 mostly survived. Further qualifies our classifying assumption #2.\n",
    "* Most passengers in Pclass=1 survived. Confirms our classifying assumption #3.\n",
    "* Pclass varies in terms of Age distribution of passengers.\n",
    "\n",
    "**Decisions.**\n",
    "\n",
    "* Consider Pclass for model training."
   ]
  },
  {
   "cell_type": "code",
   "execution_count": 12,
   "id": "3406a2f8",
   "metadata": {
    "execution": {
     "iopub.execute_input": "2024-03-21T09:45:37.297105Z",
     "iopub.status.busy": "2024-03-21T09:45:37.296672Z",
     "iopub.status.idle": "2024-03-21T09:45:40.450079Z",
     "shell.execute_reply": "2024-03-21T09:45:40.448857Z"
    },
    "papermill": {
     "duration": 3.186062,
     "end_time": "2024-03-21T09:45:40.452596",
     "exception": false,
     "start_time": "2024-03-21T09:45:37.266534",
     "status": "completed"
    },
    "tags": []
   },
   "outputs": [
    {
     "data": {
      "image/png": "[encoded data removed]",
      "text/plain": [
       "<Figure size 716.222x660 with 6 Axes>"
      ]
     },
     "metadata": {},
     "output_type": "display_data"
    }
   ],
   "source": [
    "# grid = sns.FacetGrid(train_df, col='Pclass', hue='Survived')\n",
    "grid = sns.FacetGrid(train_df, col='Survived', row='Pclass', height=2.2, aspect=1.6)\n",
    "grid.map(plt.hist, 'Age', alpha=.5, bins=20)\n",
    "grid.add_legend();"
   ]
  },
  {
   "cell_type": "markdown",
   "id": "a4668928",
   "metadata": {
    "papermill": {
     "duration": 0.029255,
     "end_time": "2024-03-21T09:45:40.511602",
     "exception": false,
     "start_time": "2024-03-21T09:45:40.482347",
     "status": "completed"
    },
    "tags": []
   },
   "source": [
    "## Correlating categorical features¶\n",
    "Now we can correlate categorical features with our solution goal.\n",
    "\n",
    "**Observations**.\n",
    "\n",
    "* Female passengers had much better survival rate than males. Confirms classifying ( #1).\n",
    "* This could be a correlation between Pclass and Embarked and in turn Pclass and Survived, not necessarily direct correlation between Embarked and Survived.\n",
    "* Males had better survival rate in Pclass=3 when compared with Pclass=2 for C and Q ports. Completing ( #2).\n",
    "* Ports of embarkation have varying survival rates for Pclass=3 and among male passengers. Correlating ( #1).\n",
    "**Decisions**.\n",
    "\n",
    "* Add Sex feature to model training.\n",
    "* Complete and add Embarked feature to model training."
   ]
  },
  {
   "cell_type": "code",
   "execution_count": 13,
   "id": "9f9ee02e",
   "metadata": {
    "execution": {
     "iopub.execute_input": "2024-03-21T09:45:40.573345Z",
     "iopub.status.busy": "2024-03-21T09:45:40.572475Z",
     "iopub.status.idle": "2024-03-21T09:45:42.624495Z",
     "shell.execute_reply": "2024-03-21T09:45:42.623186Z"
    },
    "papermill": {
     "duration": 2.087125,
     "end_time": "2024-03-21T09:45:42.628149",
     "exception": false,
     "start_time": "2024-03-21T09:45:40.541024",
     "status": "completed"
    },
    "tags": []
   },
   "outputs": [
    {
     "data": {
      "text/plain": [
       "<seaborn.axisgrid.FacetGrid at 0x7a673bcd0910>"
      ]
     },
     "execution_count": 13,
     "metadata": {},
     "output_type": "execute_result"
    },
    {
     "data": {
      "image/png": "[encoded data removed]",
      "text/plain": [
       "<Figure size 459.875x660 with 3 Axes>"
      ]
     },
     "metadata": {},
     "output_type": "display_data"
    }
   ],
   "source": [
    "# grid = sns.FacetGrid(train_df, col='Embarked')\n",
    "grid = sns.FacetGrid(train_df, row='Embarked', height=2.2, aspect=1.6)\n",
    "grid.map(sns.pointplot, 'Pclass', 'Survived', 'Sex', palette='deep',hue_order=['male','female'],order=[3,2,1])\n",
    "grid.add_legend()"
   ]
  },
  {
   "cell_type": "markdown",
   "id": "b3c6211b",
   "metadata": {
    "papermill": {
     "duration": 0.031652,
     "end_time": "2024-03-21T09:45:42.690871",
     "exception": false,
     "start_time": "2024-03-21T09:45:42.659219",
     "status": "completed"
    },
    "tags": []
   },
   "source": [
    "## Correlating categorical and numerical features¶\n",
    "\n",
    "We may also want to correlate categorical features (with non-numeric values) and numeric features. We can consider correlating 'Embarked' (Categorical non-numeric), Sex (Categorical non-numeric), Fare (Numeric continuous), with 'Survived' (Categorical numeric).\n",
    "\n",
    "**Observations**.\n",
    "\n",
    "* Higher fare paying passengers had better survival. Confirms our assumption for creating (#4) fare ranges.\n",
    "* Port of embarkation correlates with survival rates. Confirms correlating (#1) and completing (#2).\n",
    "**Decisions**.\n",
    "\n",
    "Consider banding Fare feature."
   ]
  },
  {
   "cell_type": "code",
   "execution_count": 14,
   "id": "2d7f7ae0",
   "metadata": {
    "execution": {
     "iopub.execute_input": "2024-03-21T09:45:42.753526Z",
     "iopub.status.busy": "2024-03-21T09:45:42.753035Z",
     "iopub.status.idle": "2024-03-21T09:45:45.001555Z",
     "shell.execute_reply": "2024-03-21T09:45:45.000213Z"
    },
    "papermill": {
     "duration": 2.282959,
     "end_time": "2024-03-21T09:45:45.004226",
     "exception": false,
     "start_time": "2024-03-21T09:45:42.721267",
     "status": "completed"
    },
    "tags": []
   },
   "outputs": [
    {
     "data": {
      "text/plain": [
       "<seaborn.axisgrid.FacetGrid at 0x7a6737a67d90>"
      ]
     },
     "execution_count": 14,
     "metadata": {},
     "output_type": "execute_result"
    },
    {
     "data": {
      "image/png": "[encoded data removed]",
      "text/plain": [
       "<Figure size 716.222x660 with 6 Axes>"
      ]
     },
     "metadata": {},
     "output_type": "display_data"
    }
   ],
   "source": [
    "# grid = sns.FacetGrid(train_df, col='Embarked', hue='Survived', palette={0: 'k', 1: 'w'})\n",
    "grid = sns.FacetGrid(train_df, row='Embarked', col='Survived', height=2.2, aspect=1.6)\n",
    "grid.map(sns.barplot, 'Sex', 'Fare', alpha=.5, errorbar=None,order=['male','female'])\n",
    "grid.add_legend()"
   ]
  },
  {
   "cell_type": "markdown",
   "id": "c3581ed8",
   "metadata": {
    "papermill": {
     "duration": 0.030771,
     "end_time": "2024-03-21T09:45:45.066267",
     "exception": false,
     "start_time": "2024-03-21T09:45:45.035496",
     "status": "completed"
    },
    "tags": []
   },
   "source": [
    "## Wrangle data\n",
    "\n",
    "We have collected several assumptions and decisions regarding our datasets and solution requirements. So far we did not have to change a single feature or value to arrive at these. Let us now execute our decisions and assumptions for correcting, creating, and completing goals.\n",
    "\n",
    "**Correcting by dropping features**\n",
    "\n",
    "This is a good starting goal to execute. By dropping features we are dealing with fewer data points. Speeds up our notebook and eases the analysis.\n",
    "\n",
    "Based on our assumptions and decisions we want to drop the Cabin (correcting #2) and Ticket (correcting #1) features.\n",
    "\n",
    "Note that where applicable we perform operations on both training and testing datasets together to stay consistent."
   ]
  },
  {
   "cell_type": "code",
   "execution_count": 15,
   "id": "ba1cbe79",
   "metadata": {
    "execution": {
     "iopub.execute_input": "2024-03-21T09:45:45.131044Z",
     "iopub.status.busy": "2024-03-21T09:45:45.130583Z",
     "iopub.status.idle": "2024-03-21T09:45:45.140515Z",
     "shell.execute_reply": "2024-03-21T09:45:45.139110Z"
    },
    "papermill": {
     "duration": 0.04606,
     "end_time": "2024-03-21T09:45:45.143500",
     "exception": false,
     "start_time": "2024-03-21T09:45:45.097440",
     "status": "completed"
    },
    "tags": []
   },
   "outputs": [
    {
     "name": "stdout",
     "output_type": "stream",
     "text": [
      "Before: (891, 12) (418, 11) (891, 12) (418, 11)\n",
      "After: (891, 10) (418, 9) (891, 12) (418, 11)\n"
     ]
    }
   ],
   "source": [
    "print(\"Before:\", train_df.shape, test_df.shape, combine[0].shape, combine[1].shape)\n",
    "try:\n",
    "    train_df = train_df.drop(['Ticket', 'Cabin'], axis=1)\n",
    "    test_df = test_df.drop(['Ticket', 'Cabin'], axis=1)\n",
    "    print(\"After:\", train_df.shape, test_df.shape, combine[0].shape, combine[1].shape)\n",
    "except:\n",
    "    print('Ticket and Cabin columns were already droped')\n",
    "combine = [train_df, test_df]"
   ]
  },
  {
   "cell_type": "markdown",
   "id": "4e29ae1f",
   "metadata": {
    "papermill": {
     "duration": 0.031532,
     "end_time": "2024-03-21T09:45:45.207724",
     "exception": false,
     "start_time": "2024-03-21T09:45:45.176192",
     "status": "completed"
    },
    "tags": []
   },
   "source": [
    "## Creating new feature extracting from existing\n",
    "We want to analyze if Name feature can be engineered to extract titles and test correlation between titles and survival, before dropping Name and PassengerId features.\n",
    "\n",
    "In the following code we extract **`Title`** feature using ***regular expressions.*** The RegEx pattern (\\w+\\.) matches the first word which ends with a dot character within Name feature. The expand=False flag returns a DataFrame.\n",
    "\n",
    "**Observations**.\n",
    "\n",
    "When we plot `Title`, `Age`, and `Survived`, we note the following observations.\n",
    "\n",
    "* Most titles band Age groups accurately. For example: Master title has Age mean of 5 years.\n",
    "* Survival among Title Age bands varies slightly.\n",
    "* Certain titles mostly survived (Mme, Lady, Sir) or did not (Don, Rev, Jonkheer).\n",
    "\n",
    "**Decision**.\n",
    "\n",
    "We decide to retain the new `Title` feature for model training."
   ]
  },
  {
   "cell_type": "code",
   "execution_count": 16,
   "id": "31e5129a",
   "metadata": {
    "execution": {
     "iopub.execute_input": "2024-03-21T09:45:45.276498Z",
     "iopub.status.busy": "2024-03-21T09:45:45.275013Z",
     "iopub.status.idle": "2024-03-21T09:45:45.311512Z",
     "shell.execute_reply": "2024-03-21T09:45:45.307754Z"
    },
    "papermill": {
     "duration": 0.076007,
     "end_time": "2024-03-21T09:45:45.315086",
     "exception": false,
     "start_time": "2024-03-21T09:45:45.239079",
     "status": "completed"
    },
    "tags": []
   },
   "outputs": [
    {
     "data": {
      "text/html": [
       "<div>\n",
       "<style scoped>\n",
       "    .dataframe tbody tr th:only-of-type {\n",
       "        vertical-align: middle;\n",
       "    }\n",
       "\n",
       "    .dataframe tbody tr th {\n",
       "        vertical-align: top;\n",
       "    }\n",
       "\n",
       "    .dataframe thead th {\n",
       "        text-align: right;\n",
       "    }\n",
       "</style>\n",
       "<table border=\"1\" class=\"dataframe\">\n",
       "  <thead>\n",
       "    <tr style=\"text-align: right;\">\n",
       "      <th>Sex</th>\n",
       "      <th>female</th>\n",
       "      <th>male</th>\n",
       "    </tr>\n",
       "    <tr>\n",
       "      <th>Title</th>\n",
       "      <th></th>\n",
       "      <th></th>\n",
       "    </tr>\n",
       "  </thead>\n",
       "  <tbody>\n",
       "    <tr>\n",
       "      <th>Capt</th>\n",
       "      <td>0</td>\n",
       "      <td>1</td>\n",
       "    </tr>\n",
       "    <tr>\n",
       "      <th>Col</th>\n",
       "      <td>0</td>\n",
       "      <td>2</td>\n",
       "    </tr>\n",
       "    <tr>\n",
       "      <th>Countess</th>\n",
       "      <td>1</td>\n",
       "      <td>0</td>\n",
       "    </tr>\n",
       "    <tr>\n",
       "      <th>Don</th>\n",
       "      <td>0</td>\n",
       "      <td>1</td>\n",
       "    </tr>\n",
       "    <tr>\n",
       "      <th>Dr</th>\n",
       "      <td>1</td>\n",
       "      <td>6</td>\n",
       "    </tr>\n",
       "    <tr>\n",
       "      <th>Jonkheer</th>\n",
       "      <td>0</td>\n",
       "      <td>1</td>\n",
       "    </tr>\n",
       "    <tr>\n",
       "      <th>Lady</th>\n",
       "      <td>1</td>\n",
       "      <td>0</td>\n",
       "    </tr>\n",
       "    <tr>\n",
       "      <th>Major</th>\n",
       "      <td>0</td>\n",
       "      <td>2</td>\n",
       "    </tr>\n",
       "    <tr>\n",
       "      <th>Master</th>\n",
       "      <td>0</td>\n",
       "      <td>40</td>\n",
       "    </tr>\n",
       "    <tr>\n",
       "      <th>Miss</th>\n",
       "      <td>182</td>\n",
       "      <td>0</td>\n",
       "    </tr>\n",
       "    <tr>\n",
       "      <th>Mlle</th>\n",
       "      <td>2</td>\n",
       "      <td>0</td>\n",
       "    </tr>\n",
       "    <tr>\n",
       "      <th>Mme</th>\n",
       "      <td>1</td>\n",
       "      <td>0</td>\n",
       "    </tr>\n",
       "    <tr>\n",
       "      <th>Mr</th>\n",
       "      <td>0</td>\n",
       "      <td>517</td>\n",
       "    </tr>\n",
       "    <tr>\n",
       "      <th>Mrs</th>\n",
       "      <td>125</td>\n",
       "      <td>0</td>\n",
       "    </tr>\n",
       "    <tr>\n",
       "      <th>Ms</th>\n",
       "      <td>1</td>\n",
       "      <td>0</td>\n",
       "    </tr>\n",
       "    <tr>\n",
       "      <th>Rev</th>\n",
       "      <td>0</td>\n",
       "      <td>6</td>\n",
       "    </tr>\n",
       "    <tr>\n",
       "      <th>Sir</th>\n",
       "      <td>0</td>\n",
       "      <td>1</td>\n",
       "    </tr>\n",
       "  </tbody>\n",
       "</table>\n",
       "</div>"
      ],
      "text/plain": [
       "Sex       female  male\n",
       "Title                 \n",
       "Capt           0     1\n",
       "Col            0     2\n",
       "Countess       1     0\n",
       "Don            0     1\n",
       "Dr             1     6\n",
       "Jonkheer       0     1\n",
       "Lady           1     0\n",
       "Major          0     2\n",
       "Master         0    40\n",
       "Miss         182     0\n",
       "Mlle           2     0\n",
       "Mme            1     0\n",
       "Mr             0   517\n",
       "Mrs          125     0\n",
       "Ms             1     0\n",
       "Rev            0     6\n",
       "Sir            0     1"
      ]
     },
     "execution_count": 16,
     "metadata": {},
     "output_type": "execute_result"
    }
   ],
   "source": [
    "for dataset in combine:\n",
    "    dataset['Title'] = dataset.Name.str.extract(' ([A-Za-z]+)\\.', expand=False)\n",
    "\n",
    "pd.crosstab(train_df['Title'], train_df['Sex'])"
   ]
  },
  {
   "cell_type": "markdown",
   "id": "7e7cd287",
   "metadata": {
    "papermill": {
     "duration": 0.031059,
     "end_time": "2024-03-21T09:45:45.385394",
     "exception": false,
     "start_time": "2024-03-21T09:45:45.354335",
     "status": "completed"
    },
    "tags": []
   },
   "source": [
    "We can replace many titles with a more common name or classify them as `Rare`."
   ]
  },
  {
   "cell_type": "code",
   "execution_count": 17,
   "id": "30fb31d9",
   "metadata": {
    "execution": {
     "iopub.execute_input": "2024-03-21T09:45:45.451339Z",
     "iopub.status.busy": "2024-03-21T09:45:45.450223Z",
     "iopub.status.idle": "2024-03-21T09:45:45.474730Z",
     "shell.execute_reply": "2024-03-21T09:45:45.473449Z"
    },
    "papermill": {
     "duration": 0.06032,
     "end_time": "2024-03-21T09:45:45.477522",
     "exception": false,
     "start_time": "2024-03-21T09:45:45.417202",
     "status": "completed"
    },
    "tags": []
   },
   "outputs": [
    {
     "data": {
      "text/html": [
       "<div>\n",
       "<style scoped>\n",
       "    .dataframe tbody tr th:only-of-type {\n",
       "        vertical-align: middle;\n",
       "    }\n",
       "\n",
       "    .dataframe tbody tr th {\n",
       "        vertical-align: top;\n",
       "    }\n",
       "\n",
       "    .dataframe thead th {\n",
       "        text-align: right;\n",
       "    }\n",
       "</style>\n",
       "<table border=\"1\" class=\"dataframe\">\n",
       "  <thead>\n",
       "    <tr style=\"text-align: right;\">\n",
       "      <th></th>\n",
       "      <th>Title</th>\n",
       "      <th>Survived</th>\n",
       "    </tr>\n",
       "  </thead>\n",
       "  <tbody>\n",
       "    <tr>\n",
       "      <th>0</th>\n",
       "      <td>Master</td>\n",
       "      <td>0.575000</td>\n",
       "    </tr>\n",
       "    <tr>\n",
       "      <th>1</th>\n",
       "      <td>Miss</td>\n",
       "      <td>0.702703</td>\n",
       "    </tr>\n",
       "    <tr>\n",
       "      <th>2</th>\n",
       "      <td>Mr</td>\n",
       "      <td>0.156673</td>\n",
       "    </tr>\n",
       "    <tr>\n",
       "      <th>3</th>\n",
       "      <td>Mrs</td>\n",
       "      <td>0.793651</td>\n",
       "    </tr>\n",
       "    <tr>\n",
       "      <th>4</th>\n",
       "      <td>Rare</td>\n",
       "      <td>0.347826</td>\n",
       "    </tr>\n",
       "  </tbody>\n",
       "</table>\n",
       "</div>"
      ],
      "text/plain": [
       "    Title  Survived\n",
       "0  Master  0.575000\n",
       "1    Miss  0.702703\n",
       "2      Mr  0.156673\n",
       "3     Mrs  0.793651\n",
       "4    Rare  0.347826"
      ]
     },
     "execution_count": 17,
     "metadata": {},
     "output_type": "execute_result"
    }
   ],
   "source": [
    "for dataset in combine:\n",
    "    dataset['Title'] = dataset['Title'].replace(['Lady', 'Countess','Capt', 'Col',\n",
    "                                                 'Don', 'Dr', 'Major', 'Rev', 'Sir', 'Jonkheer', 'Dona'], 'Rare')\n",
    "\n",
    "    dataset['Title'] = dataset['Title'].replace('Mlle', 'Miss')\n",
    "    dataset['Title'] = dataset['Title'].replace('Ms', 'Miss')\n",
    "    dataset['Title'] = dataset['Title'].replace('Mme', 'Mrs')\n",
    "    \n",
    "train_df[['Title', 'Survived']].groupby(['Title'], as_index=False).mean()"
   ]
  },
  {
   "cell_type": "markdown",
   "id": "8999a2f9",
   "metadata": {
    "papermill": {
     "duration": 0.032048,
     "end_time": "2024-03-21T09:45:45.541952",
     "exception": false,
     "start_time": "2024-03-21T09:45:45.509904",
     "status": "completed"
    },
    "tags": []
   },
   "source": [
    "We can convert the categorical titles to ordinal."
   ]
  },
  {
   "cell_type": "code",
   "execution_count": 18,
   "id": "a30bc482",
   "metadata": {
    "execution": {
     "iopub.execute_input": "2024-03-21T09:45:45.609082Z",
     "iopub.status.busy": "2024-03-21T09:45:45.607247Z",
     "iopub.status.idle": "2024-03-21T09:45:45.627792Z",
     "shell.execute_reply": "2024-03-21T09:45:45.626948Z"
    },
    "papermill": {
     "duration": 0.056266,
     "end_time": "2024-03-21T09:45:45.630055",
     "exception": false,
     "start_time": "2024-03-21T09:45:45.573789",
     "status": "completed"
    },
    "tags": []
   },
   "outputs": [
    {
     "data": {
      "text/html": [
       "<div>\n",
       "<style scoped>\n",
       "    .dataframe tbody tr th:only-of-type {\n",
       "        vertical-align: middle;\n",
       "    }\n",
       "\n",
       "    .dataframe tbody tr th {\n",
       "        vertical-align: top;\n",
       "    }\n",
       "\n",
       "    .dataframe thead th {\n",
       "        text-align: right;\n",
       "    }\n",
       "</style>\n",
       "<table border=\"1\" class=\"dataframe\">\n",
       "  <thead>\n",
       "    <tr style=\"text-align: right;\">\n",
       "      <th></th>\n",
       "      <th>PassengerId</th>\n",
       "      <th>Survived</th>\n",
       "      <th>Pclass</th>\n",
       "      <th>Name</th>\n",
       "      <th>Sex</th>\n",
       "      <th>Age</th>\n",
       "      <th>SibSp</th>\n",
       "      <th>Parch</th>\n",
       "      <th>Fare</th>\n",
       "      <th>Embarked</th>\n",
       "      <th>Title</th>\n",
       "    </tr>\n",
       "  </thead>\n",
       "  <tbody>\n",
       "    <tr>\n",
       "      <th>0</th>\n",
       "      <td>1</td>\n",
       "      <td>0</td>\n",
       "      <td>3</td>\n",
       "      <td>Braund, Mr. Owen Harris</td>\n",
       "      <td>male</td>\n",
       "      <td>22.0</td>\n",
       "      <td>1</td>\n",
       "      <td>0</td>\n",
       "      <td>7.2500</td>\n",
       "      <td>S</td>\n",
       "      <td>1</td>\n",
       "    </tr>\n",
       "    <tr>\n",
       "      <th>1</th>\n",
       "      <td>2</td>\n",
       "      <td>1</td>\n",
       "      <td>1</td>\n",
       "      <td>Cumings, Mrs. John Bradley (Florence Briggs Th...</td>\n",
       "      <td>female</td>\n",
       "      <td>38.0</td>\n",
       "      <td>1</td>\n",
       "      <td>0</td>\n",
       "      <td>71.2833</td>\n",
       "      <td>C</td>\n",
       "      <td>3</td>\n",
       "    </tr>\n",
       "    <tr>\n",
       "      <th>2</th>\n",
       "      <td>3</td>\n",
       "      <td>1</td>\n",
       "      <td>3</td>\n",
       "      <td>Heikkinen, Miss. Laina</td>\n",
       "      <td>female</td>\n",
       "      <td>26.0</td>\n",
       "      <td>0</td>\n",
       "      <td>0</td>\n",
       "      <td>7.9250</td>\n",
       "      <td>S</td>\n",
       "      <td>2</td>\n",
       "    </tr>\n",
       "    <tr>\n",
       "      <th>3</th>\n",
       "      <td>4</td>\n",
       "      <td>1</td>\n",
       "      <td>1</td>\n",
       "      <td>Futrelle, Mrs. Jacques Heath (Lily May Peel)</td>\n",
       "      <td>female</td>\n",
       "      <td>35.0</td>\n",
       "      <td>1</td>\n",
       "      <td>0</td>\n",
       "      <td>53.1000</td>\n",
       "      <td>S</td>\n",
       "      <td>3</td>\n",
       "    </tr>\n",
       "    <tr>\n",
       "      <th>4</th>\n",
       "      <td>5</td>\n",
       "      <td>0</td>\n",
       "      <td>3</td>\n",
       "      <td>Allen, Mr. William Henry</td>\n",
       "      <td>male</td>\n",
       "      <td>35.0</td>\n",
       "      <td>0</td>\n",
       "      <td>0</td>\n",
       "      <td>8.0500</td>\n",
       "      <td>S</td>\n",
       "      <td>1</td>\n",
       "    </tr>\n",
       "  </tbody>\n",
       "</table>\n",
       "</div>"
      ],
      "text/plain": [
       "   PassengerId  Survived  Pclass  \\\n",
       "0            1         0       3   \n",
       "1            2         1       1   \n",
       "2            3         1       3   \n",
       "3            4         1       1   \n",
       "4            5         0       3   \n",
       "\n",
       "                                                Name     Sex   Age  SibSp  \\\n",
       "0                            Braund, Mr. Owen Harris    male  22.0      1   \n",
       "1  Cumings, Mrs. John Bradley (Florence Briggs Th...  female  38.0      1   \n",
       "2                             Heikkinen, Miss. Laina  female  26.0      0   \n",
       "3       Futrelle, Mrs. Jacques Heath (Lily May Peel)  female  35.0      1   \n",
       "4                           Allen, Mr. William Henry    male  35.0      0   \n",
       "\n",
       "   Parch     Fare Embarked  Title  \n",
       "0      0   7.2500        S      1  \n",
       "1      0  71.2833        C      3  \n",
       "2      0   7.9250        S      2  \n",
       "3      0  53.1000        S      3  \n",
       "4      0   8.0500        S      1  "
      ]
     },
     "execution_count": 18,
     "metadata": {},
     "output_type": "execute_result"
    }
   ],
   "source": [
    "title_mapping = {\"Mr\": 1, \"Miss\": 2, \"Mrs\": 3, \"Master\": 4, \"Rare\": 5}\n",
    "for dataset in combine:\n",
    "    dataset['Title'] = dataset['Title'].map(title_mapping)\n",
    "    dataset['Title'] = dataset['Title'].fillna(0)\n",
    "\n",
    "train_df.head()"
   ]
  },
  {
   "cell_type": "markdown",
   "id": "a49931cd",
   "metadata": {
    "papermill": {
     "duration": 0.032249,
     "end_time": "2024-03-21T09:45:45.694518",
     "exception": false,
     "start_time": "2024-03-21T09:45:45.662269",
     "status": "completed"
    },
    "tags": []
   },
   "source": [
    "Now we can safely drop the Name feature from training and testing datasets. We also do not need the PassengerId feature in the training dataset.... (I don't like this, Surname could give some information about why some Parents did not survive and the kids did)"
   ]
  },
  {
   "cell_type": "code",
   "execution_count": 19,
   "id": "661b8b8d",
   "metadata": {
    "execution": {
     "iopub.execute_input": "2024-03-21T09:45:45.761461Z",
     "iopub.status.busy": "2024-03-21T09:45:45.760763Z",
     "iopub.status.idle": "2024-03-21T09:45:45.770987Z",
     "shell.execute_reply": "2024-03-21T09:45:45.769530Z"
    },
    "papermill": {
     "duration": 0.046688,
     "end_time": "2024-03-21T09:45:45.773716",
     "exception": false,
     "start_time": "2024-03-21T09:45:45.727028",
     "status": "completed"
    },
    "tags": []
   },
   "outputs": [
    {
     "data": {
      "text/plain": [
       "((891, 9), (418, 9))"
      ]
     },
     "execution_count": 19,
     "metadata": {},
     "output_type": "execute_result"
    }
   ],
   "source": [
    "train_df = train_df.drop(['Name', 'PassengerId'], axis=1)\n",
    "test_df = test_df.drop(['Name'], axis=1)\n",
    "combine = [train_df, test_df]\n",
    "train_df.shape, test_df.shape"
   ]
  },
  {
   "cell_type": "markdown",
   "id": "c23002ed",
   "metadata": {
    "papermill": {
     "duration": 0.032231,
     "end_time": "2024-03-21T09:45:45.838613",
     "exception": false,
     "start_time": "2024-03-21T09:45:45.806382",
     "status": "completed"
    },
    "tags": []
   },
   "source": [
    "### Converting a categorical feature\n",
    "\n",
    "Now we can convert features which contain strings to numerical values. This is required by most model algorithms. Doing so will also help us in achieving the feature completing goal.\n",
    "\n",
    "Let us start by converting Sex feature to a new feature called Gender where female=1 and male=0."
   ]
  },
  {
   "cell_type": "code",
   "execution_count": 20,
   "id": "e48a1a73",
   "metadata": {
    "execution": {
     "iopub.execute_input": "2024-03-21T09:45:45.907193Z",
     "iopub.status.busy": "2024-03-21T09:45:45.906371Z",
     "iopub.status.idle": "2024-03-21T09:45:45.924605Z",
     "shell.execute_reply": "2024-03-21T09:45:45.923392Z"
    },
    "papermill": {
     "duration": 0.055679,
     "end_time": "2024-03-21T09:45:45.927081",
     "exception": false,
     "start_time": "2024-03-21T09:45:45.871402",
     "status": "completed"
    },
    "tags": []
   },
   "outputs": [
    {
     "data": {
      "text/html": [
       "<div>\n",
       "<style scoped>\n",
       "    .dataframe tbody tr th:only-of-type {\n",
       "        vertical-align: middle;\n",
       "    }\n",
       "\n",
       "    .dataframe tbody tr th {\n",
       "        vertical-align: top;\n",
       "    }\n",
       "\n",
       "    .dataframe thead th {\n",
       "        text-align: right;\n",
       "    }\n",
       "</style>\n",
       "<table border=\"1\" class=\"dataframe\">\n",
       "  <thead>\n",
       "    <tr style=\"text-align: right;\">\n",
       "      <th></th>\n",
       "      <th>Survived</th>\n",
       "      <th>Pclass</th>\n",
       "      <th>Sex</th>\n",
       "      <th>Age</th>\n",
       "      <th>SibSp</th>\n",
       "      <th>Parch</th>\n",
       "      <th>Fare</th>\n",
       "      <th>Embarked</th>\n",
       "      <th>Title</th>\n",
       "    </tr>\n",
       "  </thead>\n",
       "  <tbody>\n",
       "    <tr>\n",
       "      <th>0</th>\n",
       "      <td>0</td>\n",
       "      <td>3</td>\n",
       "      <td>0</td>\n",
       "      <td>22.0</td>\n",
       "      <td>1</td>\n",
       "      <td>0</td>\n",
       "      <td>7.2500</td>\n",
       "      <td>S</td>\n",
       "      <td>1</td>\n",
       "    </tr>\n",
       "    <tr>\n",
       "      <th>1</th>\n",
       "      <td>1</td>\n",
       "      <td>1</td>\n",
       "      <td>1</td>\n",
       "      <td>38.0</td>\n",
       "      <td>1</td>\n",
       "      <td>0</td>\n",
       "      <td>71.2833</td>\n",
       "      <td>C</td>\n",
       "      <td>3</td>\n",
       "    </tr>\n",
       "    <tr>\n",
       "      <th>2</th>\n",
       "      <td>1</td>\n",
       "      <td>3</td>\n",
       "      <td>1</td>\n",
       "      <td>26.0</td>\n",
       "      <td>0</td>\n",
       "      <td>0</td>\n",
       "      <td>7.9250</td>\n",
       "      <td>S</td>\n",
       "      <td>2</td>\n",
       "    </tr>\n",
       "    <tr>\n",
       "      <th>3</th>\n",
       "      <td>1</td>\n",
       "      <td>1</td>\n",
       "      <td>1</td>\n",
       "      <td>35.0</td>\n",
       "      <td>1</td>\n",
       "      <td>0</td>\n",
       "      <td>53.1000</td>\n",
       "      <td>S</td>\n",
       "      <td>3</td>\n",
       "    </tr>\n",
       "    <tr>\n",
       "      <th>4</th>\n",
       "      <td>0</td>\n",
       "      <td>3</td>\n",
       "      <td>0</td>\n",
       "      <td>35.0</td>\n",
       "      <td>0</td>\n",
       "      <td>0</td>\n",
       "      <td>8.0500</td>\n",
       "      <td>S</td>\n",
       "      <td>1</td>\n",
       "    </tr>\n",
       "  </tbody>\n",
       "</table>\n",
       "</div>"
      ],
      "text/plain": [
       "   Survived  Pclass  Sex   Age  SibSp  Parch     Fare Embarked  Title\n",
       "0         0       3    0  22.0      1      0   7.2500        S      1\n",
       "1         1       1    1  38.0      1      0  71.2833        C      3\n",
       "2         1       3    1  26.0      0      0   7.9250        S      2\n",
       "3         1       1    1  35.0      1      0  53.1000        S      3\n",
       "4         0       3    0  35.0      0      0   8.0500        S      1"
      ]
     },
     "execution_count": 20,
     "metadata": {},
     "output_type": "execute_result"
    }
   ],
   "source": [
    "for dataset in combine:\n",
    "    dataset['Sex'] = dataset['Sex'].map( {'female': 1, 'male': 0} ).astype(int)\n",
    "\n",
    "train_df.head()"
   ]
  },
  {
   "cell_type": "markdown",
   "id": "6ee65df4",
   "metadata": {
    "papermill": {
     "duration": 0.032219,
     "end_time": "2024-03-21T09:45:45.992037",
     "exception": false,
     "start_time": "2024-03-21T09:45:45.959818",
     "status": "completed"
    },
    "tags": []
   },
   "source": [
    "### Completing a numerical continuous feature¶\n",
    "Now we should start estimating and completing features with missing or null values. We will first do this for the **Age** feature.\n",
    "\n",
    "We can consider three methods to complete a numerical continuous feature.\n",
    "\n",
    "* A simple way is to generate random numbers between mean and standard deviation.\n",
    "\n",
    "* More accurate way of guessing missing values is to use other correlated features. In our case we note correlation among **Age**, **Gender**, and **Pclass**. Guess **Age** values using median values for **Age** across sets of **Pclass** and **Gender** feature combinations. So, median **Age** for Pclass=1 and Gender=0, Pclass=1 and Gender=1, and so on...\n",
    "\n",
    "* Combine methods 1 and 2. So instead of guessing age values based on median, use random numbers between mean and standard deviation, based on sets of Pclass and Gender combinations.\n",
    "\n",
    "Method 1 and 3 will introduce random noise into our models. The results from multiple executions might vary. We will prefer method 2."
   ]
  },
  {
   "cell_type": "code",
   "execution_count": 21,
   "id": "ef9ff4ce",
   "metadata": {
    "execution": {
     "iopub.execute_input": "2024-03-21T09:45:46.060782Z",
     "iopub.status.busy": "2024-03-21T09:45:46.059957Z",
     "iopub.status.idle": "2024-03-21T09:45:49.162100Z",
     "shell.execute_reply": "2024-03-21T09:45:49.160461Z"
    },
    "papermill": {
     "duration": 3.13971,
     "end_time": "2024-03-21T09:45:49.165350",
     "exception": false,
     "start_time": "2024-03-21T09:45:46.025640",
     "status": "completed"
    },
    "tags": []
   },
   "outputs": [
    {
     "data": {
      "text/plain": [
       "<seaborn.axisgrid.FacetGrid at 0x7a6737d24670>"
      ]
     },
     "execution_count": 21,
     "metadata": {},
     "output_type": "execute_result"
    },
    {
     "data": {
      "image/png": "[encoded data removed]",
      "text/plain": [
       "<Figure size 716.222x660 with 6 Axes>"
      ]
     },
     "metadata": {},
     "output_type": "display_data"
    }
   ],
   "source": [
    "# grid = sns.FacetGrid(train_df, col='Pclass', hue='Gender')\n",
    "grid = sns.FacetGrid(train_df, row='Pclass', col='Sex', height=2.2, aspect=1.6)\n",
    "grid.map(plt.hist, 'Age', alpha=.5, bins=20)\n",
    "grid.add_legend()"
   ]
  },
  {
   "cell_type": "markdown",
   "id": "e66b30b2",
   "metadata": {
    "papermill": {
     "duration": 0.03327,
     "end_time": "2024-03-21T09:45:49.233568",
     "exception": false,
     "start_time": "2024-03-21T09:45:49.200298",
     "status": "completed"
    },
    "tags": []
   },
   "source": [
    "Let us start by preparing an empty array to contain guessed Age values based on Pclass x Gender combinations"
   ]
  },
  {
   "cell_type": "code",
   "execution_count": 22,
   "id": "b19083af",
   "metadata": {
    "execution": {
     "iopub.execute_input": "2024-03-21T09:45:49.305745Z",
     "iopub.status.busy": "2024-03-21T09:45:49.305035Z",
     "iopub.status.idle": "2024-03-21T09:45:49.312362Z",
     "shell.execute_reply": "2024-03-21T09:45:49.311287Z"
    },
    "papermill": {
     "duration": 0.045312,
     "end_time": "2024-03-21T09:45:49.314697",
     "exception": false,
     "start_time": "2024-03-21T09:45:49.269385",
     "status": "completed"
    },
    "tags": []
   },
   "outputs": [
    {
     "data": {
      "text/plain": [
       "array([[0., 0., 0.],\n",
       "       [0., 0., 0.]])"
      ]
     },
     "execution_count": 22,
     "metadata": {},
     "output_type": "execute_result"
    }
   ],
   "source": [
    "guess_ages = np.zeros((2,3))\n",
    "guess_ages"
   ]
  },
  {
   "cell_type": "code",
   "execution_count": 23,
   "id": "ef0dc8c4",
   "metadata": {
    "execution": {
     "iopub.execute_input": "2024-03-21T09:45:49.385004Z",
     "iopub.status.busy": "2024-03-21T09:45:49.384289Z",
     "iopub.status.idle": "2024-03-21T09:45:49.428755Z",
     "shell.execute_reply": "2024-03-21T09:45:49.427565Z"
    },
    "papermill": {
     "duration": 0.082899,
     "end_time": "2024-03-21T09:45:49.431197",
     "exception": false,
     "start_time": "2024-03-21T09:45:49.348298",
     "status": "completed"
    },
    "tags": []
   },
   "outputs": [
    {
     "data": {
      "text/html": [
       "<div>\n",
       "<style scoped>\n",
       "    .dataframe tbody tr th:only-of-type {\n",
       "        vertical-align: middle;\n",
       "    }\n",
       "\n",
       "    .dataframe tbody tr th {\n",
       "        vertical-align: top;\n",
       "    }\n",
       "\n",
       "    .dataframe thead th {\n",
       "        text-align: right;\n",
       "    }\n",
       "</style>\n",
       "<table border=\"1\" class=\"dataframe\">\n",
       "  <thead>\n",
       "    <tr style=\"text-align: right;\">\n",
       "      <th></th>\n",
       "      <th>Survived</th>\n",
       "      <th>Pclass</th>\n",
       "      <th>Sex</th>\n",
       "      <th>Age</th>\n",
       "      <th>SibSp</th>\n",
       "      <th>Parch</th>\n",
       "      <th>Fare</th>\n",
       "      <th>Embarked</th>\n",
       "      <th>Title</th>\n",
       "    </tr>\n",
       "  </thead>\n",
       "  <tbody>\n",
       "    <tr>\n",
       "      <th>0</th>\n",
       "      <td>0</td>\n",
       "      <td>3</td>\n",
       "      <td>0</td>\n",
       "      <td>22</td>\n",
       "      <td>1</td>\n",
       "      <td>0</td>\n",
       "      <td>7.2500</td>\n",
       "      <td>S</td>\n",
       "      <td>1</td>\n",
       "    </tr>\n",
       "    <tr>\n",
       "      <th>1</th>\n",
       "      <td>1</td>\n",
       "      <td>1</td>\n",
       "      <td>1</td>\n",
       "      <td>38</td>\n",
       "      <td>1</td>\n",
       "      <td>0</td>\n",
       "      <td>71.2833</td>\n",
       "      <td>C</td>\n",
       "      <td>3</td>\n",
       "    </tr>\n",
       "    <tr>\n",
       "      <th>2</th>\n",
       "      <td>1</td>\n",
       "      <td>3</td>\n",
       "      <td>1</td>\n",
       "      <td>26</td>\n",
       "      <td>0</td>\n",
       "      <td>0</td>\n",
       "      <td>7.9250</td>\n",
       "      <td>S</td>\n",
       "      <td>2</td>\n",
       "    </tr>\n",
       "    <tr>\n",
       "      <th>3</th>\n",
       "      <td>1</td>\n",
       "      <td>1</td>\n",
       "      <td>1</td>\n",
       "      <td>35</td>\n",
       "      <td>1</td>\n",
       "      <td>0</td>\n",
       "      <td>53.1000</td>\n",
       "      <td>S</td>\n",
       "      <td>3</td>\n",
       "    </tr>\n",
       "    <tr>\n",
       "      <th>4</th>\n",
       "      <td>0</td>\n",
       "      <td>3</td>\n",
       "      <td>0</td>\n",
       "      <td>35</td>\n",
       "      <td>0</td>\n",
       "      <td>0</td>\n",
       "      <td>8.0500</td>\n",
       "      <td>S</td>\n",
       "      <td>1</td>\n",
       "    </tr>\n",
       "  </tbody>\n",
       "</table>\n",
       "</div>"
      ],
      "text/plain": [
       "   Survived  Pclass  Sex  Age  SibSp  Parch     Fare Embarked  Title\n",
       "0         0       3    0   22      1      0   7.2500        S      1\n",
       "1         1       1    1   38      1      0  71.2833        C      3\n",
       "2         1       3    1   26      0      0   7.9250        S      2\n",
       "3         1       1    1   35      1      0  53.1000        S      3\n",
       "4         0       3    0   35      0      0   8.0500        S      1"
      ]
     },
     "execution_count": 23,
     "metadata": {},
     "output_type": "execute_result"
    }
   ],
   "source": [
    "for dataset in combine: # dataset = train_data or test_Data\n",
    "    \n",
    "    # These loops are for filling the guess_ages array with the Age value\n",
    "    # Accordingly to the i,j value (Sex, Pclass values)\n",
    "    \n",
    "    for i in range(0, 2): # i -> Sex\n",
    "        for j in range(0, 3): # j -> Pclass\n",
    "            # Get the required Age values and drop the NaN values.\n",
    "            guess_df = dataset[(dataset['Sex'] == i) & \\\n",
    "                                  (dataset['Pclass'] == j+1)]['Age'].dropna()\n",
    "            \n",
    "            # --Method with noise from random---\n",
    "            # age_mean = guess_df.mean()\n",
    "            # age_std = guess_df.std()\n",
    "            # age_guess = rnd.uniform(age_mean - age_std, age_mean + age_std)\n",
    "            # ----------------------------------\n",
    "\n",
    "            # Get the median from the values extracted\n",
    "            age_guess = guess_df.median()\n",
    "\n",
    "            # Convert random age float to nearest .5 age\n",
    "            guess_ages[i,j] = int( age_guess/0.5 + 0.5 ) * 0.5\n",
    "            \n",
    "    # fill NaN values with the values in guess_ages array accordingly to the Sex (i) and Pclass (j)\n",
    "    for i in range(0, 2):\n",
    "        for j in range(0, 3):\n",
    "            dataset.loc[ (dataset.Age.isnull()) & (dataset.Sex == i) & (dataset.Pclass == j+1),\\\n",
    "                    'Age'] = guess_ages[i,j]\n",
    "            # dataset.Age.isnull() the missing values \n",
    "            # & dataset.Sex == i and the Sex value \n",
    "            # & dataset.Pclass == j+1 and the Pclass value\n",
    "\n",
    "    dataset['Age'] = dataset['Age'].astype(int) # But turn it into integer\n",
    "\n",
    "train_df.head()"
   ]
  },
  {
   "cell_type": "markdown",
   "id": "7bf57ff1",
   "metadata": {
    "papermill": {
     "duration": 0.033511,
     "end_time": "2024-03-21T09:45:49.498612",
     "exception": false,
     "start_time": "2024-03-21T09:45:49.465101",
     "status": "completed"
    },
    "tags": []
   },
   "source": [
    "Let us create Age bands and determine correlations with Survived."
   ]
  },
  {
   "cell_type": "code",
   "execution_count": 24,
   "id": "e56a439a",
   "metadata": {
    "execution": {
     "iopub.execute_input": "2024-03-21T09:45:49.568450Z",
     "iopub.status.busy": "2024-03-21T09:45:49.567804Z",
     "iopub.status.idle": "2024-03-21T09:45:49.582875Z",
     "shell.execute_reply": "2024-03-21T09:45:49.581806Z"
    },
    "papermill": {
     "duration": 0.053105,
     "end_time": "2024-03-21T09:45:49.585588",
     "exception": false,
     "start_time": "2024-03-21T09:45:49.532483",
     "status": "completed"
    },
    "tags": []
   },
   "outputs": [],
   "source": [
    "train_df['AgeBand'] = pd.cut(train_df['Age'], 5)"
   ]
  },
  {
   "cell_type": "code",
   "execution_count": 25,
   "id": "a5b5c9c8",
   "metadata": {
    "execution": {
     "iopub.execute_input": "2024-03-21T09:45:49.656199Z",
     "iopub.status.busy": "2024-03-21T09:45:49.655799Z",
     "iopub.status.idle": "2024-03-21T09:45:49.673133Z",
     "shell.execute_reply": "2024-03-21T09:45:49.671804Z"
    },
    "papermill": {
     "duration": 0.055551,
     "end_time": "2024-03-21T09:45:49.675732",
     "exception": false,
     "start_time": "2024-03-21T09:45:49.620181",
     "status": "completed"
    },
    "tags": []
   },
   "outputs": [
    {
     "data": {
      "text/html": [
       "<div>\n",
       "<style scoped>\n",
       "    .dataframe tbody tr th:only-of-type {\n",
       "        vertical-align: middle;\n",
       "    }\n",
       "\n",
       "    .dataframe tbody tr th {\n",
       "        vertical-align: top;\n",
       "    }\n",
       "\n",
       "    .dataframe thead th {\n",
       "        text-align: right;\n",
       "    }\n",
       "</style>\n",
       "<table border=\"1\" class=\"dataframe\">\n",
       "  <thead>\n",
       "    <tr style=\"text-align: right;\">\n",
       "      <th></th>\n",
       "      <th>AgeBand</th>\n",
       "      <th>Survived</th>\n",
       "    </tr>\n",
       "  </thead>\n",
       "  <tbody>\n",
       "    <tr>\n",
       "      <th>0</th>\n",
       "      <td>(-0.08, 16.0]</td>\n",
       "      <td>0.550000</td>\n",
       "    </tr>\n",
       "    <tr>\n",
       "      <th>1</th>\n",
       "      <td>(16.0, 32.0]</td>\n",
       "      <td>0.337374</td>\n",
       "    </tr>\n",
       "    <tr>\n",
       "      <th>2</th>\n",
       "      <td>(32.0, 48.0]</td>\n",
       "      <td>0.412037</td>\n",
       "    </tr>\n",
       "    <tr>\n",
       "      <th>3</th>\n",
       "      <td>(48.0, 64.0]</td>\n",
       "      <td>0.434783</td>\n",
       "    </tr>\n",
       "    <tr>\n",
       "      <th>4</th>\n",
       "      <td>(64.0, 80.0]</td>\n",
       "      <td>0.090909</td>\n",
       "    </tr>\n",
       "  </tbody>\n",
       "</table>\n",
       "</div>"
      ],
      "text/plain": [
       "         AgeBand  Survived\n",
       "0  (-0.08, 16.0]  0.550000\n",
       "1   (16.0, 32.0]  0.337374\n",
       "2   (32.0, 48.0]  0.412037\n",
       "3   (48.0, 64.0]  0.434783\n",
       "4   (64.0, 80.0]  0.090909"
      ]
     },
     "execution_count": 25,
     "metadata": {},
     "output_type": "execute_result"
    }
   ],
   "source": [
    "train_df[['AgeBand', 'Survived']].groupby(['AgeBand'], as_index=False, observed=False).mean().sort_values(by='AgeBand', ascending=True)"
   ]
  },
  {
   "cell_type": "markdown",
   "id": "f8e486d9",
   "metadata": {
    "papermill": {
     "duration": 0.034003,
     "end_time": "2024-03-21T09:45:49.744010",
     "exception": false,
     "start_time": "2024-03-21T09:45:49.710007",
     "status": "completed"
    },
    "tags": []
   },
   "source": [
    "Let us replace Age with ordinals based on these bands.\n",
    "\n"
   ]
  },
  {
   "cell_type": "code",
   "execution_count": 26,
   "id": "a1652dcb",
   "metadata": {
    "execution": {
     "iopub.execute_input": "2024-03-21T09:45:49.814020Z",
     "iopub.status.busy": "2024-03-21T09:45:49.813558Z",
     "iopub.status.idle": "2024-03-21T09:45:49.841462Z",
     "shell.execute_reply": "2024-03-21T09:45:49.840159Z"
    },
    "papermill": {
     "duration": 0.066395,
     "end_time": "2024-03-21T09:45:49.844394",
     "exception": false,
     "start_time": "2024-03-21T09:45:49.777999",
     "status": "completed"
    },
    "tags": []
   },
   "outputs": [
    {
     "data": {
      "text/html": [
       "<div>\n",
       "<style scoped>\n",
       "    .dataframe tbody tr th:only-of-type {\n",
       "        vertical-align: middle;\n",
       "    }\n",
       "\n",
       "    .dataframe tbody tr th {\n",
       "        vertical-align: top;\n",
       "    }\n",
       "\n",
       "    .dataframe thead th {\n",
       "        text-align: right;\n",
       "    }\n",
       "</style>\n",
       "<table border=\"1\" class=\"dataframe\">\n",
       "  <thead>\n",
       "    <tr style=\"text-align: right;\">\n",
       "      <th></th>\n",
       "      <th>Survived</th>\n",
       "      <th>Pclass</th>\n",
       "      <th>Sex</th>\n",
       "      <th>Age</th>\n",
       "      <th>SibSp</th>\n",
       "      <th>Parch</th>\n",
       "      <th>Fare</th>\n",
       "      <th>Embarked</th>\n",
       "      <th>Title</th>\n",
       "      <th>AgeBand</th>\n",
       "    </tr>\n",
       "  </thead>\n",
       "  <tbody>\n",
       "    <tr>\n",
       "      <th>0</th>\n",
       "      <td>0</td>\n",
       "      <td>3</td>\n",
       "      <td>0</td>\n",
       "      <td>1</td>\n",
       "      <td>1</td>\n",
       "      <td>0</td>\n",
       "      <td>7.2500</td>\n",
       "      <td>S</td>\n",
       "      <td>1</td>\n",
       "      <td>(16.0, 32.0]</td>\n",
       "    </tr>\n",
       "    <tr>\n",
       "      <th>1</th>\n",
       "      <td>1</td>\n",
       "      <td>1</td>\n",
       "      <td>1</td>\n",
       "      <td>2</td>\n",
       "      <td>1</td>\n",
       "      <td>0</td>\n",
       "      <td>71.2833</td>\n",
       "      <td>C</td>\n",
       "      <td>3</td>\n",
       "      <td>(32.0, 48.0]</td>\n",
       "    </tr>\n",
       "    <tr>\n",
       "      <th>2</th>\n",
       "      <td>1</td>\n",
       "      <td>3</td>\n",
       "      <td>1</td>\n",
       "      <td>1</td>\n",
       "      <td>0</td>\n",
       "      <td>0</td>\n",
       "      <td>7.9250</td>\n",
       "      <td>S</td>\n",
       "      <td>2</td>\n",
       "      <td>(16.0, 32.0]</td>\n",
       "    </tr>\n",
       "    <tr>\n",
       "      <th>3</th>\n",
       "      <td>1</td>\n",
       "      <td>1</td>\n",
       "      <td>1</td>\n",
       "      <td>2</td>\n",
       "      <td>1</td>\n",
       "      <td>0</td>\n",
       "      <td>53.1000</td>\n",
       "      <td>S</td>\n",
       "      <td>3</td>\n",
       "      <td>(32.0, 48.0]</td>\n",
       "    </tr>\n",
       "    <tr>\n",
       "      <th>4</th>\n",
       "      <td>0</td>\n",
       "      <td>3</td>\n",
       "      <td>0</td>\n",
       "      <td>2</td>\n",
       "      <td>0</td>\n",
       "      <td>0</td>\n",
       "      <td>8.0500</td>\n",
       "      <td>S</td>\n",
       "      <td>1</td>\n",
       "      <td>(32.0, 48.0]</td>\n",
       "    </tr>\n",
       "  </tbody>\n",
       "</table>\n",
       "</div>"
      ],
      "text/plain": [
       "   Survived  Pclass  Sex  Age  SibSp  Parch     Fare Embarked  Title  \\\n",
       "0         0       3    0    1      1      0   7.2500        S      1   \n",
       "1         1       1    1    2      1      0  71.2833        C      3   \n",
       "2         1       3    1    1      0      0   7.9250        S      2   \n",
       "3         1       1    1    2      1      0  53.1000        S      3   \n",
       "4         0       3    0    2      0      0   8.0500        S      1   \n",
       "\n",
       "        AgeBand  \n",
       "0  (16.0, 32.0]  \n",
       "1  (32.0, 48.0]  \n",
       "2  (16.0, 32.0]  \n",
       "3  (32.0, 48.0]  \n",
       "4  (32.0, 48.0]  "
      ]
     },
     "execution_count": 26,
     "metadata": {},
     "output_type": "execute_result"
    }
   ],
   "source": [
    "if train_df['Age'].mean()>10:\n",
    "    \n",
    "    for dataset in combine:    \n",
    "        dataset.loc[ dataset['Age'] <= 16, 'Age'] = 0\n",
    "        dataset.loc[(dataset['Age'] > 16) & (dataset['Age'] <= 32), 'Age'] = 1\n",
    "        dataset.loc[(dataset['Age'] > 32) & (dataset['Age'] <= 48), 'Age'] = 2\n",
    "        dataset.loc[(dataset['Age'] > 48) & (dataset['Age'] <= 64), 'Age'] = 3\n",
    "        # Why not assigning value = 4 ?\n",
    "        dataset.loc[ dataset['Age'] > 64, 'Age'] # = 4  # ?????\n",
    "else:\n",
    "    print('AgeBand already asigned. Average Age values: ', train_df['Age'].mean())\n",
    "train_df.head()"
   ]
  },
  {
   "cell_type": "markdown",
   "id": "98d832c6",
   "metadata": {
    "papermill": {
     "duration": 0.035004,
     "end_time": "2024-03-21T09:45:49.914270",
     "exception": false,
     "start_time": "2024-03-21T09:45:49.879266",
     "status": "completed"
    },
    "tags": []
   },
   "source": [
    "We can not (now instead of not?) remove the AgeBand feature."
   ]
  },
  {
   "cell_type": "code",
   "execution_count": 27,
   "id": "7992a172",
   "metadata": {
    "execution": {
     "iopub.execute_input": "2024-03-21T09:45:49.985336Z",
     "iopub.status.busy": "2024-03-21T09:45:49.984928Z",
     "iopub.status.idle": "2024-03-21T09:45:50.002397Z",
     "shell.execute_reply": "2024-03-21T09:45:50.000872Z"
    },
    "papermill": {
     "duration": 0.056164,
     "end_time": "2024-03-21T09:45:50.005130",
     "exception": false,
     "start_time": "2024-03-21T09:45:49.948966",
     "status": "completed"
    },
    "tags": []
   },
   "outputs": [
    {
     "data": {
      "text/html": [
       "<div>\n",
       "<style scoped>\n",
       "    .dataframe tbody tr th:only-of-type {\n",
       "        vertical-align: middle;\n",
       "    }\n",
       "\n",
       "    .dataframe tbody tr th {\n",
       "        vertical-align: top;\n",
       "    }\n",
       "\n",
       "    .dataframe thead th {\n",
       "        text-align: right;\n",
       "    }\n",
       "</style>\n",
       "<table border=\"1\" class=\"dataframe\">\n",
       "  <thead>\n",
       "    <tr style=\"text-align: right;\">\n",
       "      <th></th>\n",
       "      <th>Survived</th>\n",
       "      <th>Pclass</th>\n",
       "      <th>Sex</th>\n",
       "      <th>Age</th>\n",
       "      <th>SibSp</th>\n",
       "      <th>Parch</th>\n",
       "      <th>Fare</th>\n",
       "      <th>Embarked</th>\n",
       "      <th>Title</th>\n",
       "    </tr>\n",
       "  </thead>\n",
       "  <tbody>\n",
       "    <tr>\n",
       "      <th>0</th>\n",
       "      <td>0</td>\n",
       "      <td>3</td>\n",
       "      <td>0</td>\n",
       "      <td>1</td>\n",
       "      <td>1</td>\n",
       "      <td>0</td>\n",
       "      <td>7.2500</td>\n",
       "      <td>S</td>\n",
       "      <td>1</td>\n",
       "    </tr>\n",
       "    <tr>\n",
       "      <th>1</th>\n",
       "      <td>1</td>\n",
       "      <td>1</td>\n",
       "      <td>1</td>\n",
       "      <td>2</td>\n",
       "      <td>1</td>\n",
       "      <td>0</td>\n",
       "      <td>71.2833</td>\n",
       "      <td>C</td>\n",
       "      <td>3</td>\n",
       "    </tr>\n",
       "    <tr>\n",
       "      <th>2</th>\n",
       "      <td>1</td>\n",
       "      <td>3</td>\n",
       "      <td>1</td>\n",
       "      <td>1</td>\n",
       "      <td>0</td>\n",
       "      <td>0</td>\n",
       "      <td>7.9250</td>\n",
       "      <td>S</td>\n",
       "      <td>2</td>\n",
       "    </tr>\n",
       "    <tr>\n",
       "      <th>3</th>\n",
       "      <td>1</td>\n",
       "      <td>1</td>\n",
       "      <td>1</td>\n",
       "      <td>2</td>\n",
       "      <td>1</td>\n",
       "      <td>0</td>\n",
       "      <td>53.1000</td>\n",
       "      <td>S</td>\n",
       "      <td>3</td>\n",
       "    </tr>\n",
       "    <tr>\n",
       "      <th>4</th>\n",
       "      <td>0</td>\n",
       "      <td>3</td>\n",
       "      <td>0</td>\n",
       "      <td>2</td>\n",
       "      <td>0</td>\n",
       "      <td>0</td>\n",
       "      <td>8.0500</td>\n",
       "      <td>S</td>\n",
       "      <td>1</td>\n",
       "    </tr>\n",
       "  </tbody>\n",
       "</table>\n",
       "</div>"
      ],
      "text/plain": [
       "   Survived  Pclass  Sex  Age  SibSp  Parch     Fare Embarked  Title\n",
       "0         0       3    0    1      1      0   7.2500        S      1\n",
       "1         1       1    1    2      1      0  71.2833        C      3\n",
       "2         1       3    1    1      0      0   7.9250        S      2\n",
       "3         1       1    1    2      1      0  53.1000        S      3\n",
       "4         0       3    0    2      0      0   8.0500        S      1"
      ]
     },
     "execution_count": 27,
     "metadata": {},
     "output_type": "execute_result"
    }
   ],
   "source": [
    "try:\n",
    "    train_df = train_df.drop(['AgeBand'], axis=1)\n",
    "except:\n",
    "    pass\n",
    "combine = [train_df, test_df]\n",
    "train_df.head()"
   ]
  },
  {
   "cell_type": "markdown",
   "id": "52e0d59c",
   "metadata": {
    "papermill": {
     "duration": 0.035138,
     "end_time": "2024-03-21T09:45:50.075015",
     "exception": false,
     "start_time": "2024-03-21T09:45:50.039877",
     "status": "completed"
    },
    "tags": []
   },
   "source": [
    "### Create new feature combining existing features¶\n",
    "We can create a new feature for `FamilySize` which combines `Parch` and `SibSp`. This will enable us to drop `Parch` and `SibSp` from our datasets."
   ]
  },
  {
   "cell_type": "code",
   "execution_count": 28,
   "id": "ef14d03e",
   "metadata": {
    "execution": {
     "iopub.execute_input": "2024-03-21T09:45:50.148742Z",
     "iopub.status.busy": "2024-03-21T09:45:50.148293Z",
     "iopub.status.idle": "2024-03-21T09:45:50.166533Z",
     "shell.execute_reply": "2024-03-21T09:45:50.165612Z"
    },
    "papermill": {
     "duration": 0.056735,
     "end_time": "2024-03-21T09:45:50.168713",
     "exception": false,
     "start_time": "2024-03-21T09:45:50.111978",
     "status": "completed"
    },
    "tags": []
   },
   "outputs": [
    {
     "data": {
      "text/html": [
       "<div>\n",
       "<style scoped>\n",
       "    .dataframe tbody tr th:only-of-type {\n",
       "        vertical-align: middle;\n",
       "    }\n",
       "\n",
       "    .dataframe tbody tr th {\n",
       "        vertical-align: top;\n",
       "    }\n",
       "\n",
       "    .dataframe thead th {\n",
       "        text-align: right;\n",
       "    }\n",
       "</style>\n",
       "<table border=\"1\" class=\"dataframe\">\n",
       "  <thead>\n",
       "    <tr style=\"text-align: right;\">\n",
       "      <th></th>\n",
       "      <th>FamilySize</th>\n",
       "      <th>Survived</th>\n",
       "    </tr>\n",
       "  </thead>\n",
       "  <tbody>\n",
       "    <tr>\n",
       "      <th>3</th>\n",
       "      <td>4</td>\n",
       "      <td>0.724138</td>\n",
       "    </tr>\n",
       "    <tr>\n",
       "      <th>2</th>\n",
       "      <td>3</td>\n",
       "      <td>0.578431</td>\n",
       "    </tr>\n",
       "    <tr>\n",
       "      <th>1</th>\n",
       "      <td>2</td>\n",
       "      <td>0.552795</td>\n",
       "    </tr>\n",
       "    <tr>\n",
       "      <th>6</th>\n",
       "      <td>7</td>\n",
       "      <td>0.333333</td>\n",
       "    </tr>\n",
       "    <tr>\n",
       "      <th>0</th>\n",
       "      <td>1</td>\n",
       "      <td>0.303538</td>\n",
       "    </tr>\n",
       "    <tr>\n",
       "      <th>4</th>\n",
       "      <td>5</td>\n",
       "      <td>0.200000</td>\n",
       "    </tr>\n",
       "    <tr>\n",
       "      <th>5</th>\n",
       "      <td>6</td>\n",
       "      <td>0.136364</td>\n",
       "    </tr>\n",
       "    <tr>\n",
       "      <th>7</th>\n",
       "      <td>8</td>\n",
       "      <td>0.000000</td>\n",
       "    </tr>\n",
       "    <tr>\n",
       "      <th>8</th>\n",
       "      <td>11</td>\n",
       "      <td>0.000000</td>\n",
       "    </tr>\n",
       "  </tbody>\n",
       "</table>\n",
       "</div>"
      ],
      "text/plain": [
       "   FamilySize  Survived\n",
       "3           4  0.724138\n",
       "2           3  0.578431\n",
       "1           2  0.552795\n",
       "6           7  0.333333\n",
       "0           1  0.303538\n",
       "4           5  0.200000\n",
       "5           6  0.136364\n",
       "7           8  0.000000\n",
       "8          11  0.000000"
      ]
     },
     "execution_count": 28,
     "metadata": {},
     "output_type": "execute_result"
    }
   ],
   "source": [
    "for dataset in combine:\n",
    "    dataset['FamilySize'] = dataset['SibSp'] + dataset['Parch'] + 1\n",
    "\n",
    "train_df[['FamilySize', 'Survived']].groupby(['FamilySize'], as_index=False).mean().sort_values(by='Survived', ascending=False)"
   ]
  },
  {
   "cell_type": "markdown",
   "id": "905eeed4",
   "metadata": {
    "papermill": {
     "duration": 0.034497,
     "end_time": "2024-03-21T09:45:50.238383",
     "exception": false,
     "start_time": "2024-03-21T09:45:50.203886",
     "status": "completed"
    },
    "tags": []
   },
   "source": [
    "We can create another feature called `IsAlone`."
   ]
  },
  {
   "cell_type": "code",
   "execution_count": 29,
   "id": "87392fb9",
   "metadata": {
    "execution": {
     "iopub.execute_input": "2024-03-21T09:45:50.311665Z",
     "iopub.status.busy": "2024-03-21T09:45:50.311240Z",
     "iopub.status.idle": "2024-03-21T09:45:50.326865Z",
     "shell.execute_reply": "2024-03-21T09:45:50.325712Z"
    },
    "papermill": {
     "duration": 0.054612,
     "end_time": "2024-03-21T09:45:50.329372",
     "exception": false,
     "start_time": "2024-03-21T09:45:50.274760",
     "status": "completed"
    },
    "tags": []
   },
   "outputs": [
    {
     "data": {
      "text/html": [
       "<div>\n",
       "<style scoped>\n",
       "    .dataframe tbody tr th:only-of-type {\n",
       "        vertical-align: middle;\n",
       "    }\n",
       "\n",
       "    .dataframe tbody tr th {\n",
       "        vertical-align: top;\n",
       "    }\n",
       "\n",
       "    .dataframe thead th {\n",
       "        text-align: right;\n",
       "    }\n",
       "</style>\n",
       "<table border=\"1\" class=\"dataframe\">\n",
       "  <thead>\n",
       "    <tr style=\"text-align: right;\">\n",
       "      <th></th>\n",
       "      <th>IsAlone</th>\n",
       "      <th>Survived</th>\n",
       "    </tr>\n",
       "  </thead>\n",
       "  <tbody>\n",
       "    <tr>\n",
       "      <th>0</th>\n",
       "      <td>0</td>\n",
       "      <td>0.505650</td>\n",
       "    </tr>\n",
       "    <tr>\n",
       "      <th>1</th>\n",
       "      <td>1</td>\n",
       "      <td>0.303538</td>\n",
       "    </tr>\n",
       "  </tbody>\n",
       "</table>\n",
       "</div>"
      ],
      "text/plain": [
       "   IsAlone  Survived\n",
       "0        0  0.505650\n",
       "1        1  0.303538"
      ]
     },
     "execution_count": 29,
     "metadata": {},
     "output_type": "execute_result"
    }
   ],
   "source": [
    "for dataset in combine:\n",
    "    dataset['IsAlone'] = 0\n",
    "    dataset.loc[dataset['FamilySize'] == 1, 'IsAlone'] = 1\n",
    "\n",
    "train_df[['IsAlone', 'Survived']].groupby(['IsAlone'], as_index=False).mean()"
   ]
  },
  {
   "cell_type": "markdown",
   "id": "8cc7cd50",
   "metadata": {
    "papermill": {
     "duration": 0.035357,
     "end_time": "2024-03-21T09:45:50.400548",
     "exception": false,
     "start_time": "2024-03-21T09:45:50.365191",
     "status": "completed"
    },
    "tags": []
   },
   "source": [
    "Let us drop `Parch`, `SibSp`, and `FamilySize` features in favor of `IsAlone`."
   ]
  },
  {
   "cell_type": "code",
   "execution_count": 30,
   "id": "e02b74f9",
   "metadata": {
    "execution": {
     "iopub.execute_input": "2024-03-21T09:45:50.473990Z",
     "iopub.status.busy": "2024-03-21T09:45:50.473171Z",
     "iopub.status.idle": "2024-03-21T09:45:50.490465Z",
     "shell.execute_reply": "2024-03-21T09:45:50.489238Z"
    },
    "papermill": {
     "duration": 0.057387,
     "end_time": "2024-03-21T09:45:50.493497",
     "exception": false,
     "start_time": "2024-03-21T09:45:50.436110",
     "status": "completed"
    },
    "tags": []
   },
   "outputs": [
    {
     "data": {
      "text/html": [
       "<div>\n",
       "<style scoped>\n",
       "    .dataframe tbody tr th:only-of-type {\n",
       "        vertical-align: middle;\n",
       "    }\n",
       "\n",
       "    .dataframe tbody tr th {\n",
       "        vertical-align: top;\n",
       "    }\n",
       "\n",
       "    .dataframe thead th {\n",
       "        text-align: right;\n",
       "    }\n",
       "</style>\n",
       "<table border=\"1\" class=\"dataframe\">\n",
       "  <thead>\n",
       "    <tr style=\"text-align: right;\">\n",
       "      <th></th>\n",
       "      <th>Survived</th>\n",
       "      <th>Pclass</th>\n",
       "      <th>Sex</th>\n",
       "      <th>Age</th>\n",
       "      <th>Fare</th>\n",
       "      <th>Embarked</th>\n",
       "      <th>Title</th>\n",
       "      <th>IsAlone</th>\n",
       "    </tr>\n",
       "  </thead>\n",
       "  <tbody>\n",
       "    <tr>\n",
       "      <th>0</th>\n",
       "      <td>0</td>\n",
       "      <td>3</td>\n",
       "      <td>0</td>\n",
       "      <td>1</td>\n",
       "      <td>7.2500</td>\n",
       "      <td>S</td>\n",
       "      <td>1</td>\n",
       "      <td>0</td>\n",
       "    </tr>\n",
       "    <tr>\n",
       "      <th>1</th>\n",
       "      <td>1</td>\n",
       "      <td>1</td>\n",
       "      <td>1</td>\n",
       "      <td>2</td>\n",
       "      <td>71.2833</td>\n",
       "      <td>C</td>\n",
       "      <td>3</td>\n",
       "      <td>0</td>\n",
       "    </tr>\n",
       "    <tr>\n",
       "      <th>2</th>\n",
       "      <td>1</td>\n",
       "      <td>3</td>\n",
       "      <td>1</td>\n",
       "      <td>1</td>\n",
       "      <td>7.9250</td>\n",
       "      <td>S</td>\n",
       "      <td>2</td>\n",
       "      <td>1</td>\n",
       "    </tr>\n",
       "    <tr>\n",
       "      <th>3</th>\n",
       "      <td>1</td>\n",
       "      <td>1</td>\n",
       "      <td>1</td>\n",
       "      <td>2</td>\n",
       "      <td>53.1000</td>\n",
       "      <td>S</td>\n",
       "      <td>3</td>\n",
       "      <td>0</td>\n",
       "    </tr>\n",
       "    <tr>\n",
       "      <th>4</th>\n",
       "      <td>0</td>\n",
       "      <td>3</td>\n",
       "      <td>0</td>\n",
       "      <td>2</td>\n",
       "      <td>8.0500</td>\n",
       "      <td>S</td>\n",
       "      <td>1</td>\n",
       "      <td>1</td>\n",
       "    </tr>\n",
       "  </tbody>\n",
       "</table>\n",
       "</div>"
      ],
      "text/plain": [
       "   Survived  Pclass  Sex  Age     Fare Embarked  Title  IsAlone\n",
       "0         0       3    0    1   7.2500        S      1        0\n",
       "1         1       1    1    2  71.2833        C      3        0\n",
       "2         1       3    1    1   7.9250        S      2        1\n",
       "3         1       1    1    2  53.1000        S      3        0\n",
       "4         0       3    0    2   8.0500        S      1        1"
      ]
     },
     "execution_count": 30,
     "metadata": {},
     "output_type": "execute_result"
    }
   ],
   "source": [
    "train_df = train_df.drop(['Parch', 'SibSp', 'FamilySize'], axis=1)\n",
    "test_df = test_df.drop(['Parch', 'SibSp', 'FamilySize'], axis=1)\n",
    "combine = [train_df, test_df]\n",
    "\n",
    "train_df.head()"
   ]
  },
  {
   "cell_type": "markdown",
   "id": "56b0a09c",
   "metadata": {
    "papermill": {
     "duration": 0.036016,
     "end_time": "2024-03-21T09:45:50.566202",
     "exception": false,
     "start_time": "2024-03-21T09:45:50.530186",
     "status": "completed"
    },
    "tags": []
   },
   "source": [
    "We can also create an artificial feature combining `Pclass` and `Age`."
   ]
  },
  {
   "cell_type": "code",
   "execution_count": 31,
   "id": "7c2e0de9",
   "metadata": {
    "execution": {
     "iopub.execute_input": "2024-03-21T09:45:50.641019Z",
     "iopub.status.busy": "2024-03-21T09:45:50.640185Z",
     "iopub.status.idle": "2024-03-21T09:45:50.654919Z",
     "shell.execute_reply": "2024-03-21T09:45:50.653754Z"
    },
    "papermill": {
     "duration": 0.055253,
     "end_time": "2024-03-21T09:45:50.657455",
     "exception": false,
     "start_time": "2024-03-21T09:45:50.602202",
     "status": "completed"
    },
    "tags": []
   },
   "outputs": [
    {
     "data": {
      "text/html": [
       "<div>\n",
       "<style scoped>\n",
       "    .dataframe tbody tr th:only-of-type {\n",
       "        vertical-align: middle;\n",
       "    }\n",
       "\n",
       "    .dataframe tbody tr th {\n",
       "        vertical-align: top;\n",
       "    }\n",
       "\n",
       "    .dataframe thead th {\n",
       "        text-align: right;\n",
       "    }\n",
       "</style>\n",
       "<table border=\"1\" class=\"dataframe\">\n",
       "  <thead>\n",
       "    <tr style=\"text-align: right;\">\n",
       "      <th></th>\n",
       "      <th>Age*Class</th>\n",
       "      <th>Age</th>\n",
       "      <th>Pclass</th>\n",
       "    </tr>\n",
       "  </thead>\n",
       "  <tbody>\n",
       "    <tr>\n",
       "      <th>0</th>\n",
       "      <td>3</td>\n",
       "      <td>1</td>\n",
       "      <td>3</td>\n",
       "    </tr>\n",
       "    <tr>\n",
       "      <th>1</th>\n",
       "      <td>2</td>\n",
       "      <td>2</td>\n",
       "      <td>1</td>\n",
       "    </tr>\n",
       "    <tr>\n",
       "      <th>2</th>\n",
       "      <td>3</td>\n",
       "      <td>1</td>\n",
       "      <td>3</td>\n",
       "    </tr>\n",
       "    <tr>\n",
       "      <th>3</th>\n",
       "      <td>2</td>\n",
       "      <td>2</td>\n",
       "      <td>1</td>\n",
       "    </tr>\n",
       "    <tr>\n",
       "      <th>4</th>\n",
       "      <td>6</td>\n",
       "      <td>2</td>\n",
       "      <td>3</td>\n",
       "    </tr>\n",
       "    <tr>\n",
       "      <th>5</th>\n",
       "      <td>3</td>\n",
       "      <td>1</td>\n",
       "      <td>3</td>\n",
       "    </tr>\n",
       "    <tr>\n",
       "      <th>6</th>\n",
       "      <td>3</td>\n",
       "      <td>3</td>\n",
       "      <td>1</td>\n",
       "    </tr>\n",
       "    <tr>\n",
       "      <th>7</th>\n",
       "      <td>0</td>\n",
       "      <td>0</td>\n",
       "      <td>3</td>\n",
       "    </tr>\n",
       "    <tr>\n",
       "      <th>8</th>\n",
       "      <td>3</td>\n",
       "      <td>1</td>\n",
       "      <td>3</td>\n",
       "    </tr>\n",
       "    <tr>\n",
       "      <th>9</th>\n",
       "      <td>0</td>\n",
       "      <td>0</td>\n",
       "      <td>2</td>\n",
       "    </tr>\n",
       "  </tbody>\n",
       "</table>\n",
       "</div>"
      ],
      "text/plain": [
       "   Age*Class  Age  Pclass\n",
       "0          3    1       3\n",
       "1          2    2       1\n",
       "2          3    1       3\n",
       "3          2    2       1\n",
       "4          6    2       3\n",
       "5          3    1       3\n",
       "6          3    3       1\n",
       "7          0    0       3\n",
       "8          3    1       3\n",
       "9          0    0       2"
      ]
     },
     "execution_count": 31,
     "metadata": {},
     "output_type": "execute_result"
    }
   ],
   "source": [
    "for dataset in combine:\n",
    "    dataset['Age*Class'] = dataset.Age * dataset.Pclass\n",
    "\n",
    "train_df.loc[:, ['Age*Class', 'Age', 'Pclass']].head(10)"
   ]
  },
  {
   "cell_type": "markdown",
   "id": "efe708bc",
   "metadata": {
    "papermill": {
     "duration": 0.036148,
     "end_time": "2024-03-21T09:45:50.730186",
     "exception": false,
     "start_time": "2024-03-21T09:45:50.694038",
     "status": "completed"
    },
    "tags": []
   },
   "source": [
    "### Completing a categorical feature¶\n",
    "`Embarked` feature takes S, Q, C values based on port of embarkation. Our training dataset has two missing values. We simply fill these with the most common occurance."
   ]
  },
  {
   "cell_type": "code",
   "execution_count": 32,
   "id": "0de2e511",
   "metadata": {
    "execution": {
     "iopub.execute_input": "2024-03-21T09:45:50.804986Z",
     "iopub.status.busy": "2024-03-21T09:45:50.804162Z",
     "iopub.status.idle": "2024-03-21T09:45:50.813203Z",
     "shell.execute_reply": "2024-03-21T09:45:50.811916Z"
    },
    "papermill": {
     "duration": 0.049363,
     "end_time": "2024-03-21T09:45:50.815596",
     "exception": false,
     "start_time": "2024-03-21T09:45:50.766233",
     "status": "completed"
    },
    "tags": []
   },
   "outputs": [
    {
     "data": {
      "text/plain": [
       "'S'"
      ]
     },
     "execution_count": 32,
     "metadata": {},
     "output_type": "execute_result"
    }
   ],
   "source": [
    "freq_port = train_df.Embarked.dropna().mode()[0]\n",
    "freq_port"
   ]
  },
  {
   "cell_type": "code",
   "execution_count": 33,
   "id": "212fc1f3",
   "metadata": {
    "execution": {
     "iopub.execute_input": "2024-03-21T09:45:50.890766Z",
     "iopub.status.busy": "2024-03-21T09:45:50.889444Z",
     "iopub.status.idle": "2024-03-21T09:45:50.905720Z",
     "shell.execute_reply": "2024-03-21T09:45:50.904424Z"
    },
    "papermill": {
     "duration": 0.056617,
     "end_time": "2024-03-21T09:45:50.908510",
     "exception": false,
     "start_time": "2024-03-21T09:45:50.851893",
     "status": "completed"
    },
    "tags": []
   },
   "outputs": [
    {
     "data": {
      "text/html": [
       "<div>\n",
       "<style scoped>\n",
       "    .dataframe tbody tr th:only-of-type {\n",
       "        vertical-align: middle;\n",
       "    }\n",
       "\n",
       "    .dataframe tbody tr th {\n",
       "        vertical-align: top;\n",
       "    }\n",
       "\n",
       "    .dataframe thead th {\n",
       "        text-align: right;\n",
       "    }\n",
       "</style>\n",
       "<table border=\"1\" class=\"dataframe\">\n",
       "  <thead>\n",
       "    <tr style=\"text-align: right;\">\n",
       "      <th></th>\n",
       "      <th>Embarked</th>\n",
       "      <th>Survived</th>\n",
       "    </tr>\n",
       "  </thead>\n",
       "  <tbody>\n",
       "    <tr>\n",
       "      <th>0</th>\n",
       "      <td>C</td>\n",
       "      <td>0.553571</td>\n",
       "    </tr>\n",
       "    <tr>\n",
       "      <th>1</th>\n",
       "      <td>Q</td>\n",
       "      <td>0.389610</td>\n",
       "    </tr>\n",
       "    <tr>\n",
       "      <th>2</th>\n",
       "      <td>S</td>\n",
       "      <td>0.339009</td>\n",
       "    </tr>\n",
       "  </tbody>\n",
       "</table>\n",
       "</div>"
      ],
      "text/plain": [
       "  Embarked  Survived\n",
       "0        C  0.553571\n",
       "1        Q  0.389610\n",
       "2        S  0.339009"
      ]
     },
     "execution_count": 33,
     "metadata": {},
     "output_type": "execute_result"
    }
   ],
   "source": [
    "for dataset in combine:\n",
    "    dataset['Embarked'] = dataset['Embarked'].fillna(freq_port)\n",
    "    \n",
    "train_df[['Embarked', 'Survived']].groupby(['Embarked'], as_index=False).mean().sort_values(by='Survived', ascending=False)"
   ]
  },
  {
   "cell_type": "markdown",
   "id": "0e2642c2",
   "metadata": {
    "papermill": {
     "duration": 0.036464,
     "end_time": "2024-03-21T09:45:50.982314",
     "exception": false,
     "start_time": "2024-03-21T09:45:50.945850",
     "status": "completed"
    },
    "tags": []
   },
   "source": [
    "### Converting categorical feature to numeric¶\n",
    "We can now convert the `Embarked`Fill feature by creating a new numeric Port feature."
   ]
  },
  {
   "cell_type": "code",
   "execution_count": 34,
   "id": "2a3f6c8b",
   "metadata": {
    "execution": {
     "iopub.execute_input": "2024-03-21T09:45:51.057810Z",
     "iopub.status.busy": "2024-03-21T09:45:51.057343Z",
     "iopub.status.idle": "2024-03-21T09:45:51.077475Z",
     "shell.execute_reply": "2024-03-21T09:45:51.076335Z"
    },
    "papermill": {
     "duration": 0.060495,
     "end_time": "2024-03-21T09:45:51.079797",
     "exception": false,
     "start_time": "2024-03-21T09:45:51.019302",
     "status": "completed"
    },
    "tags": []
   },
   "outputs": [
    {
     "name": "stdout",
     "output_type": "stream",
     "text": [
      "<class 'pandas.core.frame.DataFrame'>\n",
      "RangeIndex: 891 entries, 0 to 890\n",
      "Data columns (total 9 columns):\n",
      " #   Column     Non-Null Count  Dtype  \n",
      "---  ------     --------------  -----  \n",
      " 0   Survived   891 non-null    int64  \n",
      " 1   Pclass     891 non-null    int64  \n",
      " 2   Sex        891 non-null    int64  \n",
      " 3   Age        891 non-null    int64  \n",
      " 4   Fare       891 non-null    float64\n",
      " 5   Embarked   891 non-null    object \n",
      " 6   Title      891 non-null    int64  \n",
      " 7   IsAlone    891 non-null    int64  \n",
      " 8   Age*Class  891 non-null    int64  \n",
      "dtypes: float64(1), int64(7), object(1)\n",
      "memory usage: 62.8+ KB\n",
      "None\n",
      "<class 'pandas.core.frame.DataFrame'>\n",
      "RangeIndex: 418 entries, 0 to 417\n",
      "Data columns (total 9 columns):\n",
      " #   Column       Non-Null Count  Dtype  \n",
      "---  ------       --------------  -----  \n",
      " 0   PassengerId  418 non-null    int64  \n",
      " 1   Pclass       418 non-null    int64  \n",
      " 2   Sex          418 non-null    int64  \n",
      " 3   Age          418 non-null    int64  \n",
      " 4   Fare         417 non-null    float64\n",
      " 5   Embarked     418 non-null    object \n",
      " 6   Title        418 non-null    int64  \n",
      " 7   IsAlone      418 non-null    int64  \n",
      " 8   Age*Class    418 non-null    int64  \n",
      "dtypes: float64(1), int64(7), object(1)\n",
      "memory usage: 29.5+ KB\n",
      "None\n"
     ]
    }
   ],
   "source": [
    "for dataset in combine:\n",
    "    print(dataset.info())"
   ]
  },
  {
   "cell_type": "code",
   "execution_count": 35,
   "id": "40f9bdec",
   "metadata": {
    "execution": {
     "iopub.execute_input": "2024-03-21T09:45:51.156120Z",
     "iopub.status.busy": "2024-03-21T09:45:51.155186Z",
     "iopub.status.idle": "2024-03-21T09:45:51.163625Z",
     "shell.execute_reply": "2024-03-21T09:45:51.162519Z"
    },
    "papermill": {
     "duration": 0.049094,
     "end_time": "2024-03-21T09:45:51.166189",
     "exception": false,
     "start_time": "2024-03-21T09:45:51.117095",
     "status": "completed"
    },
    "tags": []
   },
   "outputs": [],
   "source": [
    "for dataset in combine:\n",
    "    try:\n",
    "        dataset['Embarked'] = dataset['Embarked'].map({'S': 0, 'C': 1, 'Q': 2}).astype(int)\n",
    "    except ValueError:\n",
    "        print(\"Error: Unable to convert 'Embarked' column to integers. Already mapped.\")\n"
   ]
  },
  {
   "cell_type": "code",
   "execution_count": 36,
   "id": "9c67a5c7",
   "metadata": {
    "execution": {
     "iopub.execute_input": "2024-03-21T09:45:51.242478Z",
     "iopub.status.busy": "2024-03-21T09:45:51.242080Z",
     "iopub.status.idle": "2024-03-21T09:45:51.261689Z",
     "shell.execute_reply": "2024-03-21T09:45:51.260265Z"
    },
    "papermill": {
     "duration": 0.061514,
     "end_time": "2024-03-21T09:45:51.264268",
     "exception": false,
     "start_time": "2024-03-21T09:45:51.202754",
     "status": "completed"
    },
    "tags": []
   },
   "outputs": [
    {
     "data": {
      "text/html": [
       "<div>\n",
       "<style scoped>\n",
       "    .dataframe tbody tr th:only-of-type {\n",
       "        vertical-align: middle;\n",
       "    }\n",
       "\n",
       "    .dataframe tbody tr th {\n",
       "        vertical-align: top;\n",
       "    }\n",
       "\n",
       "    .dataframe thead th {\n",
       "        text-align: right;\n",
       "    }\n",
       "</style>\n",
       "<table border=\"1\" class=\"dataframe\">\n",
       "  <thead>\n",
       "    <tr style=\"text-align: right;\">\n",
       "      <th></th>\n",
       "      <th>PassengerId</th>\n",
       "      <th>Pclass</th>\n",
       "      <th>Sex</th>\n",
       "      <th>Age</th>\n",
       "      <th>Fare</th>\n",
       "      <th>Embarked</th>\n",
       "      <th>Title</th>\n",
       "      <th>IsAlone</th>\n",
       "      <th>Age*Class</th>\n",
       "    </tr>\n",
       "  </thead>\n",
       "  <tbody>\n",
       "    <tr>\n",
       "      <th>0</th>\n",
       "      <td>892</td>\n",
       "      <td>3</td>\n",
       "      <td>0</td>\n",
       "      <td>2</td>\n",
       "      <td>7.8292</td>\n",
       "      <td>2</td>\n",
       "      <td>1</td>\n",
       "      <td>1</td>\n",
       "      <td>6</td>\n",
       "    </tr>\n",
       "    <tr>\n",
       "      <th>1</th>\n",
       "      <td>893</td>\n",
       "      <td>3</td>\n",
       "      <td>1</td>\n",
       "      <td>2</td>\n",
       "      <td>7.0000</td>\n",
       "      <td>0</td>\n",
       "      <td>3</td>\n",
       "      <td>0</td>\n",
       "      <td>6</td>\n",
       "    </tr>\n",
       "    <tr>\n",
       "      <th>2</th>\n",
       "      <td>894</td>\n",
       "      <td>2</td>\n",
       "      <td>0</td>\n",
       "      <td>3</td>\n",
       "      <td>9.6875</td>\n",
       "      <td>2</td>\n",
       "      <td>1</td>\n",
       "      <td>1</td>\n",
       "      <td>6</td>\n",
       "    </tr>\n",
       "    <tr>\n",
       "      <th>3</th>\n",
       "      <td>895</td>\n",
       "      <td>3</td>\n",
       "      <td>0</td>\n",
       "      <td>1</td>\n",
       "      <td>8.6625</td>\n",
       "      <td>0</td>\n",
       "      <td>1</td>\n",
       "      <td>1</td>\n",
       "      <td>3</td>\n",
       "    </tr>\n",
       "    <tr>\n",
       "      <th>4</th>\n",
       "      <td>896</td>\n",
       "      <td>3</td>\n",
       "      <td>1</td>\n",
       "      <td>1</td>\n",
       "      <td>12.2875</td>\n",
       "      <td>0</td>\n",
       "      <td>3</td>\n",
       "      <td>0</td>\n",
       "      <td>3</td>\n",
       "    </tr>\n",
       "    <tr>\n",
       "      <th>...</th>\n",
       "      <td>...</td>\n",
       "      <td>...</td>\n",
       "      <td>...</td>\n",
       "      <td>...</td>\n",
       "      <td>...</td>\n",
       "      <td>...</td>\n",
       "      <td>...</td>\n",
       "      <td>...</td>\n",
       "      <td>...</td>\n",
       "    </tr>\n",
       "    <tr>\n",
       "      <th>413</th>\n",
       "      <td>1305</td>\n",
       "      <td>3</td>\n",
       "      <td>0</td>\n",
       "      <td>1</td>\n",
       "      <td>8.0500</td>\n",
       "      <td>0</td>\n",
       "      <td>1</td>\n",
       "      <td>1</td>\n",
       "      <td>3</td>\n",
       "    </tr>\n",
       "    <tr>\n",
       "      <th>414</th>\n",
       "      <td>1306</td>\n",
       "      <td>1</td>\n",
       "      <td>1</td>\n",
       "      <td>2</td>\n",
       "      <td>108.9000</td>\n",
       "      <td>1</td>\n",
       "      <td>5</td>\n",
       "      <td>1</td>\n",
       "      <td>2</td>\n",
       "    </tr>\n",
       "    <tr>\n",
       "      <th>415</th>\n",
       "      <td>1307</td>\n",
       "      <td>3</td>\n",
       "      <td>0</td>\n",
       "      <td>2</td>\n",
       "      <td>7.2500</td>\n",
       "      <td>0</td>\n",
       "      <td>1</td>\n",
       "      <td>1</td>\n",
       "      <td>6</td>\n",
       "    </tr>\n",
       "    <tr>\n",
       "      <th>416</th>\n",
       "      <td>1308</td>\n",
       "      <td>3</td>\n",
       "      <td>0</td>\n",
       "      <td>1</td>\n",
       "      <td>8.0500</td>\n",
       "      <td>0</td>\n",
       "      <td>1</td>\n",
       "      <td>1</td>\n",
       "      <td>3</td>\n",
       "    </tr>\n",
       "    <tr>\n",
       "      <th>417</th>\n",
       "      <td>1309</td>\n",
       "      <td>3</td>\n",
       "      <td>0</td>\n",
       "      <td>1</td>\n",
       "      <td>22.3583</td>\n",
       "      <td>1</td>\n",
       "      <td>4</td>\n",
       "      <td>0</td>\n",
       "      <td>3</td>\n",
       "    </tr>\n",
       "  </tbody>\n",
       "</table>\n",
       "<p>418 rows × 9 columns</p>\n",
       "</div>"
      ],
      "text/plain": [
       "     PassengerId  Pclass  Sex  Age      Fare  Embarked  Title  IsAlone  \\\n",
       "0            892       3    0    2    7.8292         2      1        1   \n",
       "1            893       3    1    2    7.0000         0      3        0   \n",
       "2            894       2    0    3    9.6875         2      1        1   \n",
       "3            895       3    0    1    8.6625         0      1        1   \n",
       "4            896       3    1    1   12.2875         0      3        0   \n",
       "..           ...     ...  ...  ...       ...       ...    ...      ...   \n",
       "413         1305       3    0    1    8.0500         0      1        1   \n",
       "414         1306       1    1    2  108.9000         1      5        1   \n",
       "415         1307       3    0    2    7.2500         0      1        1   \n",
       "416         1308       3    0    1    8.0500         0      1        1   \n",
       "417         1309       3    0    1   22.3583         1      4        0   \n",
       "\n",
       "     Age*Class  \n",
       "0            6  \n",
       "1            6  \n",
       "2            6  \n",
       "3            3  \n",
       "4            3  \n",
       "..         ...  \n",
       "413          3  \n",
       "414          2  \n",
       "415          6  \n",
       "416          3  \n",
       "417          3  \n",
       "\n",
       "[418 rows x 9 columns]"
      ]
     },
     "execution_count": 36,
     "metadata": {},
     "output_type": "execute_result"
    }
   ],
   "source": [
    "test_df"
   ]
  },
  {
   "cell_type": "markdown",
   "id": "3af1f105",
   "metadata": {
    "papermill": {
     "duration": 0.037226,
     "end_time": "2024-03-21T09:45:51.338686",
     "exception": false,
     "start_time": "2024-03-21T09:45:51.301460",
     "status": "completed"
    },
    "tags": []
   },
   "source": [
    "### Quick completing and converting a numeric feature\n",
    "We can now complete the `Fare` feature for single missing value in test dataset using mode to get the value that occurs most frequently for this feature. We do this in a single line of code.\n",
    "\n",
    "Note that we are not creating an intermediate new feature or doing any further analysis for correlation to guess missing feature as we are replacing only a single value. The completion goal achieves desired requirement for model algorithm to operate on non-null values.\n",
    "\n",
    "We may also want round off the fare to two decimals as it represents currency."
   ]
  },
  {
   "cell_type": "code",
   "execution_count": 37,
   "id": "9dc4f1cb",
   "metadata": {
    "execution": {
     "iopub.execute_input": "2024-03-21T09:45:51.415568Z",
     "iopub.status.busy": "2024-03-21T09:45:51.415162Z",
     "iopub.status.idle": "2024-03-21T09:45:51.429626Z",
     "shell.execute_reply": "2024-03-21T09:45:51.428746Z"
    },
    "papermill": {
     "duration": 0.055842,
     "end_time": "2024-03-21T09:45:51.432047",
     "exception": false,
     "start_time": "2024-03-21T09:45:51.376205",
     "status": "completed"
    },
    "tags": []
   },
   "outputs": [
    {
     "data": {
      "text/html": [
       "<div>\n",
       "<style scoped>\n",
       "    .dataframe tbody tr th:only-of-type {\n",
       "        vertical-align: middle;\n",
       "    }\n",
       "\n",
       "    .dataframe tbody tr th {\n",
       "        vertical-align: top;\n",
       "    }\n",
       "\n",
       "    .dataframe thead th {\n",
       "        text-align: right;\n",
       "    }\n",
       "</style>\n",
       "<table border=\"1\" class=\"dataframe\">\n",
       "  <thead>\n",
       "    <tr style=\"text-align: right;\">\n",
       "      <th></th>\n",
       "      <th>PassengerId</th>\n",
       "      <th>Pclass</th>\n",
       "      <th>Sex</th>\n",
       "      <th>Age</th>\n",
       "      <th>Fare</th>\n",
       "      <th>Embarked</th>\n",
       "      <th>Title</th>\n",
       "      <th>IsAlone</th>\n",
       "      <th>Age*Class</th>\n",
       "    </tr>\n",
       "  </thead>\n",
       "  <tbody>\n",
       "    <tr>\n",
       "      <th>0</th>\n",
       "      <td>892</td>\n",
       "      <td>3</td>\n",
       "      <td>0</td>\n",
       "      <td>2</td>\n",
       "      <td>7.8292</td>\n",
       "      <td>2</td>\n",
       "      <td>1</td>\n",
       "      <td>1</td>\n",
       "      <td>6</td>\n",
       "    </tr>\n",
       "    <tr>\n",
       "      <th>1</th>\n",
       "      <td>893</td>\n",
       "      <td>3</td>\n",
       "      <td>1</td>\n",
       "      <td>2</td>\n",
       "      <td>7.0000</td>\n",
       "      <td>0</td>\n",
       "      <td>3</td>\n",
       "      <td>0</td>\n",
       "      <td>6</td>\n",
       "    </tr>\n",
       "    <tr>\n",
       "      <th>2</th>\n",
       "      <td>894</td>\n",
       "      <td>2</td>\n",
       "      <td>0</td>\n",
       "      <td>3</td>\n",
       "      <td>9.6875</td>\n",
       "      <td>2</td>\n",
       "      <td>1</td>\n",
       "      <td>1</td>\n",
       "      <td>6</td>\n",
       "    </tr>\n",
       "    <tr>\n",
       "      <th>3</th>\n",
       "      <td>895</td>\n",
       "      <td>3</td>\n",
       "      <td>0</td>\n",
       "      <td>1</td>\n",
       "      <td>8.6625</td>\n",
       "      <td>0</td>\n",
       "      <td>1</td>\n",
       "      <td>1</td>\n",
       "      <td>3</td>\n",
       "    </tr>\n",
       "    <tr>\n",
       "      <th>4</th>\n",
       "      <td>896</td>\n",
       "      <td>3</td>\n",
       "      <td>1</td>\n",
       "      <td>1</td>\n",
       "      <td>12.2875</td>\n",
       "      <td>0</td>\n",
       "      <td>3</td>\n",
       "      <td>0</td>\n",
       "      <td>3</td>\n",
       "    </tr>\n",
       "  </tbody>\n",
       "</table>\n",
       "</div>"
      ],
      "text/plain": [
       "   PassengerId  Pclass  Sex  Age     Fare  Embarked  Title  IsAlone  Age*Class\n",
       "0          892       3    0    2   7.8292         2      1        1          6\n",
       "1          893       3    1    2   7.0000         0      3        0          6\n",
       "2          894       2    0    3   9.6875         2      1        1          6\n",
       "3          895       3    0    1   8.6625         0      1        1          3\n",
       "4          896       3    1    1  12.2875         0      3        0          3"
      ]
     },
     "execution_count": 37,
     "metadata": {},
     "output_type": "execute_result"
    }
   ],
   "source": [
    "# test_df['Fare'].fillna(test_df['Fare'].dropna().median(), inplace=True)\n",
    "test_df['Fare'] = test_df['Fare'].fillna(test_df['Fare'].dropna().median())\n",
    "test_df.head()"
   ]
  },
  {
   "cell_type": "markdown",
   "id": "da440624",
   "metadata": {
    "papermill": {
     "duration": 0.0371,
     "end_time": "2024-03-21T09:45:51.506487",
     "exception": false,
     "start_time": "2024-03-21T09:45:51.469387",
     "status": "completed"
    },
    "tags": []
   },
   "source": [
    "We can not (now instead of not?) create `FareBand`."
   ]
  },
  {
   "cell_type": "code",
   "execution_count": 38,
   "id": "f94c054e",
   "metadata": {
    "execution": {
     "iopub.execute_input": "2024-03-21T09:45:51.583882Z",
     "iopub.status.busy": "2024-03-21T09:45:51.582989Z",
     "iopub.status.idle": "2024-03-21T09:45:51.603019Z",
     "shell.execute_reply": "2024-03-21T09:45:51.601548Z"
    },
    "papermill": {
     "duration": 0.061895,
     "end_time": "2024-03-21T09:45:51.605740",
     "exception": false,
     "start_time": "2024-03-21T09:45:51.543845",
     "status": "completed"
    },
    "tags": []
   },
   "outputs": [
    {
     "data": {
      "text/html": [
       "<div>\n",
       "<style scoped>\n",
       "    .dataframe tbody tr th:only-of-type {\n",
       "        vertical-align: middle;\n",
       "    }\n",
       "\n",
       "    .dataframe tbody tr th {\n",
       "        vertical-align: top;\n",
       "    }\n",
       "\n",
       "    .dataframe thead th {\n",
       "        text-align: right;\n",
       "    }\n",
       "</style>\n",
       "<table border=\"1\" class=\"dataframe\">\n",
       "  <thead>\n",
       "    <tr style=\"text-align: right;\">\n",
       "      <th></th>\n",
       "      <th>FareBand</th>\n",
       "      <th>Survived</th>\n",
       "    </tr>\n",
       "  </thead>\n",
       "  <tbody>\n",
       "    <tr>\n",
       "      <th>0</th>\n",
       "      <td>(-0.001, 7.91]</td>\n",
       "      <td>0.197309</td>\n",
       "    </tr>\n",
       "    <tr>\n",
       "      <th>1</th>\n",
       "      <td>(7.91, 14.454]</td>\n",
       "      <td>0.303571</td>\n",
       "    </tr>\n",
       "    <tr>\n",
       "      <th>2</th>\n",
       "      <td>(14.454, 31.0]</td>\n",
       "      <td>0.454955</td>\n",
       "    </tr>\n",
       "    <tr>\n",
       "      <th>3</th>\n",
       "      <td>(31.0, 512.329]</td>\n",
       "      <td>0.581081</td>\n",
       "    </tr>\n",
       "  </tbody>\n",
       "</table>\n",
       "</div>"
      ],
      "text/plain": [
       "          FareBand  Survived\n",
       "0   (-0.001, 7.91]  0.197309\n",
       "1   (7.91, 14.454]  0.303571\n",
       "2   (14.454, 31.0]  0.454955\n",
       "3  (31.0, 512.329]  0.581081"
      ]
     },
     "execution_count": 38,
     "metadata": {},
     "output_type": "execute_result"
    }
   ],
   "source": [
    "train_df['FareBand'] = pd.qcut(train_df['Fare'], 4)\n",
    "train_df[['FareBand', 'Survived']].groupby(['FareBand'], as_index=False,observed=False).mean().sort_values(by='FareBand', ascending=True)"
   ]
  },
  {
   "cell_type": "markdown",
   "id": "55ae2c18",
   "metadata": {
    "papermill": {
     "duration": 0.038029,
     "end_time": "2024-03-21T09:45:51.681609",
     "exception": false,
     "start_time": "2024-03-21T09:45:51.643580",
     "status": "completed"
    },
    "tags": []
   },
   "source": [
    "Convert the `Fare` feature to ordinal values based on the `FareBand`."
   ]
  },
  {
   "cell_type": "code",
   "execution_count": 39,
   "id": "1dc7ff08",
   "metadata": {
    "execution": {
     "iopub.execute_input": "2024-03-21T09:45:51.759863Z",
     "iopub.status.busy": "2024-03-21T09:45:51.759403Z",
     "iopub.status.idle": "2024-03-21T09:45:51.785895Z",
     "shell.execute_reply": "2024-03-21T09:45:51.784737Z"
    },
    "papermill": {
     "duration": 0.068679,
     "end_time": "2024-03-21T09:45:51.788788",
     "exception": false,
     "start_time": "2024-03-21T09:45:51.720109",
     "status": "completed"
    },
    "tags": []
   },
   "outputs": [
    {
     "data": {
      "text/html": [
       "<div>\n",
       "<style scoped>\n",
       "    .dataframe tbody tr th:only-of-type {\n",
       "        vertical-align: middle;\n",
       "    }\n",
       "\n",
       "    .dataframe tbody tr th {\n",
       "        vertical-align: top;\n",
       "    }\n",
       "\n",
       "    .dataframe thead th {\n",
       "        text-align: right;\n",
       "    }\n",
       "</style>\n",
       "<table border=\"1\" class=\"dataframe\">\n",
       "  <thead>\n",
       "    <tr style=\"text-align: right;\">\n",
       "      <th></th>\n",
       "      <th>Survived</th>\n",
       "      <th>Pclass</th>\n",
       "      <th>Sex</th>\n",
       "      <th>Age</th>\n",
       "      <th>Fare</th>\n",
       "      <th>Embarked</th>\n",
       "      <th>Title</th>\n",
       "      <th>IsAlone</th>\n",
       "      <th>Age*Class</th>\n",
       "    </tr>\n",
       "  </thead>\n",
       "  <tbody>\n",
       "    <tr>\n",
       "      <th>0</th>\n",
       "      <td>0</td>\n",
       "      <td>3</td>\n",
       "      <td>0</td>\n",
       "      <td>1</td>\n",
       "      <td>0</td>\n",
       "      <td>0</td>\n",
       "      <td>1</td>\n",
       "      <td>0</td>\n",
       "      <td>3</td>\n",
       "    </tr>\n",
       "    <tr>\n",
       "      <th>1</th>\n",
       "      <td>1</td>\n",
       "      <td>1</td>\n",
       "      <td>1</td>\n",
       "      <td>2</td>\n",
       "      <td>3</td>\n",
       "      <td>1</td>\n",
       "      <td>3</td>\n",
       "      <td>0</td>\n",
       "      <td>2</td>\n",
       "    </tr>\n",
       "    <tr>\n",
       "      <th>2</th>\n",
       "      <td>1</td>\n",
       "      <td>3</td>\n",
       "      <td>1</td>\n",
       "      <td>1</td>\n",
       "      <td>1</td>\n",
       "      <td>0</td>\n",
       "      <td>2</td>\n",
       "      <td>1</td>\n",
       "      <td>3</td>\n",
       "    </tr>\n",
       "    <tr>\n",
       "      <th>3</th>\n",
       "      <td>1</td>\n",
       "      <td>1</td>\n",
       "      <td>1</td>\n",
       "      <td>2</td>\n",
       "      <td>3</td>\n",
       "      <td>0</td>\n",
       "      <td>3</td>\n",
       "      <td>0</td>\n",
       "      <td>2</td>\n",
       "    </tr>\n",
       "    <tr>\n",
       "      <th>4</th>\n",
       "      <td>0</td>\n",
       "      <td>3</td>\n",
       "      <td>0</td>\n",
       "      <td>2</td>\n",
       "      <td>1</td>\n",
       "      <td>0</td>\n",
       "      <td>1</td>\n",
       "      <td>1</td>\n",
       "      <td>6</td>\n",
       "    </tr>\n",
       "  </tbody>\n",
       "</table>\n",
       "</div>"
      ],
      "text/plain": [
       "   Survived  Pclass  Sex  Age  Fare  Embarked  Title  IsAlone  Age*Class\n",
       "0         0       3    0    1     0         0      1        0          3\n",
       "1         1       1    1    2     3         1      3        0          2\n",
       "2         1       3    1    1     1         0      2        1          3\n",
       "3         1       1    1    2     3         0      3        0          2\n",
       "4         0       3    0    2     1         0      1        1          6"
      ]
     },
     "execution_count": 39,
     "metadata": {},
     "output_type": "execute_result"
    }
   ],
   "source": [
    "if train_df['Fare'].mean()>10:\n",
    "    \n",
    "    for dataset in combine:    \n",
    "        dataset.loc[ dataset['Fare'] <= 7.91, 'Fare'] = 0\n",
    "        dataset.loc[(dataset['Fare'] > 7.91) & (dataset['Fare'] <= 14.45), 'Fare'] = 1\n",
    "        dataset.loc[(dataset['Fare'] > 14.45) & (dataset['Fare'] <= 31), 'Fare'] = 2\n",
    "        dataset.loc[(dataset['Fare'] > 31) , 'Fare'] = 3\n",
    "        dataset['Fare'] = dataset['Fare'].astype(int)\n",
    "\n",
    "else:\n",
    "    print('FareBand already asigned. Average Age values: ', train_df['Fare'].mean())\n",
    "\n",
    "train_df = train_df.drop(['FareBand'], axis=1)\n",
    "train_df.head()"
   ]
  },
  {
   "cell_type": "code",
   "execution_count": 40,
   "id": "ff388c6f",
   "metadata": {
    "execution": {
     "iopub.execute_input": "2024-03-21T09:45:51.868072Z",
     "iopub.status.busy": "2024-03-21T09:45:51.867614Z",
     "iopub.status.idle": "2024-03-21T09:45:51.881263Z",
     "shell.execute_reply": "2024-03-21T09:45:51.879806Z"
    },
    "papermill": {
     "duration": 0.056101,
     "end_time": "2024-03-21T09:45:51.883891",
     "exception": false,
     "start_time": "2024-03-21T09:45:51.827790",
     "status": "completed"
    },
    "tags": []
   },
   "outputs": [
    {
     "data": {
      "text/html": [
       "<div>\n",
       "<style scoped>\n",
       "    .dataframe tbody tr th:only-of-type {\n",
       "        vertical-align: middle;\n",
       "    }\n",
       "\n",
       "    .dataframe tbody tr th {\n",
       "        vertical-align: top;\n",
       "    }\n",
       "\n",
       "    .dataframe thead th {\n",
       "        text-align: right;\n",
       "    }\n",
       "</style>\n",
       "<table border=\"1\" class=\"dataframe\">\n",
       "  <thead>\n",
       "    <tr style=\"text-align: right;\">\n",
       "      <th></th>\n",
       "      <th>PassengerId</th>\n",
       "      <th>Pclass</th>\n",
       "      <th>Sex</th>\n",
       "      <th>Age</th>\n",
       "      <th>Fare</th>\n",
       "      <th>Embarked</th>\n",
       "      <th>Title</th>\n",
       "      <th>IsAlone</th>\n",
       "      <th>Age*Class</th>\n",
       "    </tr>\n",
       "  </thead>\n",
       "  <tbody>\n",
       "    <tr>\n",
       "      <th>0</th>\n",
       "      <td>892</td>\n",
       "      <td>3</td>\n",
       "      <td>0</td>\n",
       "      <td>2</td>\n",
       "      <td>0</td>\n",
       "      <td>2</td>\n",
       "      <td>1</td>\n",
       "      <td>1</td>\n",
       "      <td>6</td>\n",
       "    </tr>\n",
       "    <tr>\n",
       "      <th>1</th>\n",
       "      <td>893</td>\n",
       "      <td>3</td>\n",
       "      <td>1</td>\n",
       "      <td>2</td>\n",
       "      <td>0</td>\n",
       "      <td>0</td>\n",
       "      <td>3</td>\n",
       "      <td>0</td>\n",
       "      <td>6</td>\n",
       "    </tr>\n",
       "    <tr>\n",
       "      <th>2</th>\n",
       "      <td>894</td>\n",
       "      <td>2</td>\n",
       "      <td>0</td>\n",
       "      <td>3</td>\n",
       "      <td>1</td>\n",
       "      <td>2</td>\n",
       "      <td>1</td>\n",
       "      <td>1</td>\n",
       "      <td>6</td>\n",
       "    </tr>\n",
       "    <tr>\n",
       "      <th>3</th>\n",
       "      <td>895</td>\n",
       "      <td>3</td>\n",
       "      <td>0</td>\n",
       "      <td>1</td>\n",
       "      <td>1</td>\n",
       "      <td>0</td>\n",
       "      <td>1</td>\n",
       "      <td>1</td>\n",
       "      <td>3</td>\n",
       "    </tr>\n",
       "    <tr>\n",
       "      <th>4</th>\n",
       "      <td>896</td>\n",
       "      <td>3</td>\n",
       "      <td>1</td>\n",
       "      <td>1</td>\n",
       "      <td>1</td>\n",
       "      <td>0</td>\n",
       "      <td>3</td>\n",
       "      <td>0</td>\n",
       "      <td>3</td>\n",
       "    </tr>\n",
       "  </tbody>\n",
       "</table>\n",
       "</div>"
      ],
      "text/plain": [
       "   PassengerId  Pclass  Sex  Age  Fare  Embarked  Title  IsAlone  Age*Class\n",
       "0          892       3    0    2     0         2      1        1          6\n",
       "1          893       3    1    2     0         0      3        0          6\n",
       "2          894       2    0    3     1         2      1        1          6\n",
       "3          895       3    0    1     1         0      1        1          3\n",
       "4          896       3    1    1     1         0      3        0          3"
      ]
     },
     "execution_count": 40,
     "metadata": {},
     "output_type": "execute_result"
    }
   ],
   "source": [
    "test_df.head()"
   ]
  },
  {
   "cell_type": "markdown",
   "id": "3792b398",
   "metadata": {
    "papermill": {
     "duration": 0.040125,
     "end_time": "2024-03-21T09:45:51.963613",
     "exception": false,
     "start_time": "2024-03-21T09:45:51.923488",
     "status": "completed"
    },
    "tags": []
   },
   "source": [
    "## Model, predict and solve¶\n",
    "Now we are ready to train a **model** and predict the required solution. There are **60+ predictive modelling algorithms** (!!!) to choose from. We must understand the type of problem and solution requirement to narrow down to a select few models which we can evaluate. Our problem is a **classification** and **regression** problem. We want to identify relationship between **output** (`'Survived'` = Survived or not) with other variables or features (Gender, Age, Port...). We are also perfoming a category of machine learning which is called supervised learning as we are training our model with a given dataset. With these two criteria - Supervised Learning plus Classification and Regression, we can narrow down our choice of models to a few. These include:\n",
    "\n",
    "* Logistic Regression\n",
    "* KNN or k-Nearest Neighbors\n",
    "* Support Vector Machines\n",
    "* Naive Bayes classifier\n",
    "* Decision Tree\n",
    "* Random Forrest\n",
    "* Perceptron\n",
    "* Artificial neural network\n",
    "* RVM or Relevance Vector Machine"
   ]
  },
  {
   "cell_type": "code",
   "execution_count": 41,
   "id": "4265cf94",
   "metadata": {
    "execution": {
     "iopub.execute_input": "2024-03-21T09:45:52.044489Z",
     "iopub.status.busy": "2024-03-21T09:45:52.044028Z",
     "iopub.status.idle": "2024-03-21T09:45:52.064011Z",
     "shell.execute_reply": "2024-03-21T09:45:52.062631Z"
    },
    "papermill": {
     "duration": 0.064126,
     "end_time": "2024-03-21T09:45:52.066580",
     "exception": false,
     "start_time": "2024-03-21T09:45:52.002454",
     "status": "completed"
    },
    "tags": []
   },
   "outputs": [
    {
     "data": {
      "text/html": [
       "<div>\n",
       "<style scoped>\n",
       "    .dataframe tbody tr th:only-of-type {\n",
       "        vertical-align: middle;\n",
       "    }\n",
       "\n",
       "    .dataframe tbody tr th {\n",
       "        vertical-align: top;\n",
       "    }\n",
       "\n",
       "    .dataframe thead th {\n",
       "        text-align: right;\n",
       "    }\n",
       "</style>\n",
       "<table border=\"1\" class=\"dataframe\">\n",
       "  <thead>\n",
       "    <tr style=\"text-align: right;\">\n",
       "      <th></th>\n",
       "      <th>Pclass</th>\n",
       "      <th>Sex</th>\n",
       "      <th>Age</th>\n",
       "      <th>Fare</th>\n",
       "      <th>Embarked</th>\n",
       "      <th>Title</th>\n",
       "      <th>IsAlone</th>\n",
       "      <th>Age*Class</th>\n",
       "    </tr>\n",
       "  </thead>\n",
       "  <tbody>\n",
       "    <tr>\n",
       "      <th>0</th>\n",
       "      <td>3</td>\n",
       "      <td>0</td>\n",
       "      <td>1</td>\n",
       "      <td>0</td>\n",
       "      <td>0</td>\n",
       "      <td>1</td>\n",
       "      <td>0</td>\n",
       "      <td>3</td>\n",
       "    </tr>\n",
       "    <tr>\n",
       "      <th>1</th>\n",
       "      <td>1</td>\n",
       "      <td>1</td>\n",
       "      <td>2</td>\n",
       "      <td>3</td>\n",
       "      <td>1</td>\n",
       "      <td>3</td>\n",
       "      <td>0</td>\n",
       "      <td>2</td>\n",
       "    </tr>\n",
       "    <tr>\n",
       "      <th>2</th>\n",
       "      <td>3</td>\n",
       "      <td>1</td>\n",
       "      <td>1</td>\n",
       "      <td>1</td>\n",
       "      <td>0</td>\n",
       "      <td>2</td>\n",
       "      <td>1</td>\n",
       "      <td>3</td>\n",
       "    </tr>\n",
       "    <tr>\n",
       "      <th>3</th>\n",
       "      <td>1</td>\n",
       "      <td>1</td>\n",
       "      <td>2</td>\n",
       "      <td>3</td>\n",
       "      <td>0</td>\n",
       "      <td>3</td>\n",
       "      <td>0</td>\n",
       "      <td>2</td>\n",
       "    </tr>\n",
       "    <tr>\n",
       "      <th>4</th>\n",
       "      <td>3</td>\n",
       "      <td>0</td>\n",
       "      <td>2</td>\n",
       "      <td>1</td>\n",
       "      <td>0</td>\n",
       "      <td>1</td>\n",
       "      <td>1</td>\n",
       "      <td>6</td>\n",
       "    </tr>\n",
       "  </tbody>\n",
       "</table>\n",
       "</div>"
      ],
      "text/plain": [
       "   Pclass  Sex  Age  Fare  Embarked  Title  IsAlone  Age*Class\n",
       "0       3    0    1     0         0      1        0          3\n",
       "1       1    1    2     3         1      3        0          2\n",
       "2       3    1    1     1         0      2        1          3\n",
       "3       1    1    2     3         0      3        0          2\n",
       "4       3    0    2     1         0      1        1          6"
      ]
     },
     "execution_count": 41,
     "metadata": {},
     "output_type": "execute_result"
    }
   ],
   "source": [
    "X_train = train_df.drop('Survived',axis=1)\n",
    "Y_train = train_df['Survived']\n",
    "X_test = test_df.drop(\"PassengerId\", axis=1).copy()\n",
    "X_train.shape, Y_train.shape, X_test.shape\n",
    "X_train.head()"
   ]
  },
  {
   "cell_type": "markdown",
   "id": "c4a7e7e9",
   "metadata": {
    "papermill": {
     "duration": 0.038932,
     "end_time": "2024-03-21T09:45:52.144774",
     "exception": false,
     "start_time": "2024-03-21T09:45:52.105842",
     "status": "completed"
    },
    "tags": []
   },
   "source": [
    "## Logistic Regression \n",
    "Logistic Regression is a useful model to run early in the workflow. Logistic regression measures the relationship between the categorical dependent variable (feature) and one or more independent variables (features) by estimating probabilities using a logistic function, which is the cumulative logistic distribution.\n",
    "\n",
    "Note the confidence score generated by the model based on our training dataset."
   ]
  },
  {
   "cell_type": "code",
   "execution_count": 42,
   "id": "bd30d9f3",
   "metadata": {
    "execution": {
     "iopub.execute_input": "2024-03-21T09:45:52.230002Z",
     "iopub.status.busy": "2024-03-21T09:45:52.229547Z",
     "iopub.status.idle": "2024-03-21T09:45:52.267571Z",
     "shell.execute_reply": "2024-03-21T09:45:52.265894Z"
    },
    "papermill": {
     "duration": 0.084223,
     "end_time": "2024-03-21T09:45:52.270604",
     "exception": false,
     "start_time": "2024-03-21T09:45:52.186381",
     "status": "completed"
    },
    "tags": []
   },
   "outputs": [
    {
     "data": {
      "text/plain": [
       "80.36"
      ]
     },
     "execution_count": 42,
     "metadata": {},
     "output_type": "execute_result"
    }
   ],
   "source": [
    "# Logistic Regression\n",
    "from sklearn.linear_model import LogisticRegression\n",
    "\n",
    "logreg = LogisticRegression()\n",
    "logreg.fit(X_train, Y_train)\n",
    "Y_pred = logreg.predict(X_test)\n",
    "acc_log = round(logreg.score(X_train, Y_train) * 100, 2)\n",
    "acc_log"
   ]
  },
  {
   "cell_type": "markdown",
   "id": "43f3b6c2",
   "metadata": {
    "papermill": {
     "duration": 0.04111,
     "end_time": "2024-03-21T09:45:52.351309",
     "exception": false,
     "start_time": "2024-03-21T09:45:52.310199",
     "status": "completed"
    },
    "tags": []
   },
   "source": [
    "We can use **Logistic Regression** to validate our assumptions and decisions for feature creating and completing goals. This can be done by calculating the coefficient of the features in the decision function.\n",
    "\n",
    "Positive coefficients increase the log-odds of the response (and thus increase the probability), and negative coefficients decrease the log-odds of the response (and thus decrease the probability).\n",
    "\n",
    "`Sex` is highest positivie coefficient, implying as the `Sex` value increases (male: 0 to female: 1), the probability of `Survived = 1` increases the most.\n",
    "Inversely as `Pclass` increases, probability of ` Survived = 1` decreases the most.\n",
    "This way `Age*Class` is a good artificial feature to model as it has second highest negative correlation with `Survived`.\n",
    "So is `Title` as second highest positive correlation."
   ]
  },
  {
   "cell_type": "code",
   "execution_count": 43,
   "id": "6522100c",
   "metadata": {
    "execution": {
     "iopub.execute_input": "2024-03-21T09:45:52.431549Z",
     "iopub.status.busy": "2024-03-21T09:45:52.430984Z",
     "iopub.status.idle": "2024-03-21T09:45:52.446285Z",
     "shell.execute_reply": "2024-03-21T09:45:52.445025Z"
    },
    "papermill": {
     "duration": 0.058435,
     "end_time": "2024-03-21T09:45:52.448885",
     "exception": false,
     "start_time": "2024-03-21T09:45:52.390450",
     "status": "completed"
    },
    "tags": []
   },
   "outputs": [
    {
     "data": {
      "text/html": [
       "<div>\n",
       "<style scoped>\n",
       "    .dataframe tbody tr th:only-of-type {\n",
       "        vertical-align: middle;\n",
       "    }\n",
       "\n",
       "    .dataframe tbody tr th {\n",
       "        vertical-align: top;\n",
       "    }\n",
       "\n",
       "    .dataframe thead th {\n",
       "        text-align: right;\n",
       "    }\n",
       "</style>\n",
       "<table border=\"1\" class=\"dataframe\">\n",
       "  <thead>\n",
       "    <tr style=\"text-align: right;\">\n",
       "      <th></th>\n",
       "      <th>Feature</th>\n",
       "      <th>Correlation</th>\n",
       "    </tr>\n",
       "  </thead>\n",
       "  <tbody>\n",
       "    <tr>\n",
       "      <th>1</th>\n",
       "      <td>Sex</td>\n",
       "      <td>2.201619</td>\n",
       "    </tr>\n",
       "    <tr>\n",
       "      <th>5</th>\n",
       "      <td>Title</td>\n",
       "      <td>0.397888</td>\n",
       "    </tr>\n",
       "    <tr>\n",
       "      <th>2</th>\n",
       "      <td>Age</td>\n",
       "      <td>0.287011</td>\n",
       "    </tr>\n",
       "    <tr>\n",
       "      <th>4</th>\n",
       "      <td>Embarked</td>\n",
       "      <td>0.261473</td>\n",
       "    </tr>\n",
       "    <tr>\n",
       "      <th>6</th>\n",
       "      <td>IsAlone</td>\n",
       "      <td>0.126553</td>\n",
       "    </tr>\n",
       "    <tr>\n",
       "      <th>3</th>\n",
       "      <td>Fare</td>\n",
       "      <td>-0.086655</td>\n",
       "    </tr>\n",
       "    <tr>\n",
       "      <th>7</th>\n",
       "      <td>Age*Class</td>\n",
       "      <td>-0.311069</td>\n",
       "    </tr>\n",
       "    <tr>\n",
       "      <th>0</th>\n",
       "      <td>Pclass</td>\n",
       "      <td>-0.750700</td>\n",
       "    </tr>\n",
       "  </tbody>\n",
       "</table>\n",
       "</div>"
      ],
      "text/plain": [
       "     Feature  Correlation\n",
       "1        Sex     2.201619\n",
       "5      Title     0.397888\n",
       "2        Age     0.287011\n",
       "4   Embarked     0.261473\n",
       "6    IsAlone     0.126553\n",
       "3       Fare    -0.086655\n",
       "7  Age*Class    -0.311069\n",
       "0     Pclass    -0.750700"
      ]
     },
     "execution_count": 43,
     "metadata": {},
     "output_type": "execute_result"
    }
   ],
   "source": [
    "coeff_df = pd.DataFrame(train_df.columns.delete(0)) # To Get the column names (without 'survived') and set it as a column\n",
    "coeff_df.columns = ['Feature'] #We name the new column as 'Feature'\n",
    "coeff_df[\"Correlation\"] = pd.Series(logreg.coef_[0]) # Relates each of the Columns, Pclass, Sex, Age, etc... to a first order regresion )\n",
    "coeff_df.sort_values(by='Correlation', ascending=False)"
   ]
  },
  {
   "cell_type": "markdown",
   "id": "3f41c8ab",
   "metadata": {
    "papermill": {
     "duration": 0.039427,
     "end_time": "2024-03-21T09:45:52.528479",
     "exception": false,
     "start_time": "2024-03-21T09:45:52.489052",
     "status": "completed"
    },
    "tags": []
   },
   "source": [
    "## Support Vector Machines\n",
    "Next we model using **Support Vector Machines** which are supervised learning models with associated learning algorithms that analyze data used for classification and regression analysis. Given a set of training samples, each marked as belonging to one or the other of two categories, an SVM training algorithm builds a model that assigns new test samples to one category or the other, making it a non-probabilistic binary linear classifier.\n",
    "\n",
    "Note that the model generates a confidence score which is higher than Logistics Regression model."
   ]
  },
  {
   "cell_type": "code",
   "execution_count": 44,
   "id": "833466dd",
   "metadata": {
    "execution": {
     "iopub.execute_input": "2024-03-21T09:45:52.611640Z",
     "iopub.status.busy": "2024-03-21T09:45:52.610592Z",
     "iopub.status.idle": "2024-03-21T09:45:52.681883Z",
     "shell.execute_reply": "2024-03-21T09:45:52.680510Z"
    },
    "papermill": {
     "duration": 0.115077,
     "end_time": "2024-03-21T09:45:52.684484",
     "exception": false,
     "start_time": "2024-03-21T09:45:52.569407",
     "status": "completed"
    },
    "tags": []
   },
   "outputs": [
    {
     "data": {
      "text/plain": [
       "(83.84, 'auto')"
      ]
     },
     "execution_count": 44,
     "metadata": {},
     "output_type": "execute_result"
    }
   ],
   "source": [
    "# Support Vector Machines\n",
    "from sklearn.svm import SVC, LinearSVC\n",
    "\n",
    "svc = SVC(gamma='auto')\n",
    "svc.fit(X_train, Y_train)\n",
    "Y_pred = svc.predict(X_test)\n",
    "acc_svc = round(svc.score(X_train, Y_train) * 100, 2)\n",
    "\n",
    "acc_svc, svc.gamma"
   ]
  },
  {
   "cell_type": "markdown",
   "id": "ab256345",
   "metadata": {
    "papermill": {
     "duration": 0.038697,
     "end_time": "2024-03-21T09:45:52.761921",
     "exception": false,
     "start_time": "2024-03-21T09:45:52.723224",
     "status": "completed"
    },
    "tags": []
   },
   "source": [
    "## k-Nearest Neighbors\n",
    "In pattern recognition, the **k-Nearest Neighbors** algorithm (or k-NN for short) is a non-parametric method used for classification and regression. A sample is classified by a majority vote of its neighbors, with the sample being assigned to the class most common among its k nearest neighbors (k is a positive integer, typically small). If k = 1, then the object is simply assigned to the class of that single nearest neighbor. Reference Wikipedia.\n",
    "\n",
    "KNN confidence score is better than Logistics Regression but worse than SVM."
   ]
  },
  {
   "cell_type": "code",
   "execution_count": 45,
   "id": "ceea7be0",
   "metadata": {
    "execution": {
     "iopub.execute_input": "2024-03-21T09:45:52.844483Z",
     "iopub.status.busy": "2024-03-21T09:45:52.843253Z",
     "iopub.status.idle": "2024-03-21T09:45:52.948963Z",
     "shell.execute_reply": "2024-03-21T09:45:52.948077Z"
    },
    "papermill": {
     "duration": 0.14902,
     "end_time": "2024-03-21T09:45:52.951215",
     "exception": false,
     "start_time": "2024-03-21T09:45:52.802195",
     "status": "completed"
    },
    "tags": []
   },
   "outputs": [
    {
     "data": {
      "text/plain": [
       "84.74"
      ]
     },
     "execution_count": 45,
     "metadata": {},
     "output_type": "execute_result"
    }
   ],
   "source": [
    "# k-Nearest Neighbors Classifier\n",
    "from sklearn.neighbors import KNeighborsClassifier\n",
    "\n",
    "knn = KNeighborsClassifier(n_neighbors = 3)\n",
    "knn.fit(X_train, Y_train)\n",
    "Y_pred = knn.predict(X_test)\n",
    "acc_knn = round(knn.score(X_train, Y_train) * 100, 2)\n",
    "acc_knn"
   ]
  },
  {
   "cell_type": "markdown",
   "id": "4f213d14",
   "metadata": {
    "papermill": {
     "duration": 0.039782,
     "end_time": "2024-03-21T09:45:53.030888",
     "exception": false,
     "start_time": "2024-03-21T09:45:52.991106",
     "status": "completed"
    },
    "tags": []
   },
   "source": [
    "## Naive Bayes classifiers\n",
    "In machine learning, **naive Bayes** classifiers are a family of simple probabilistic classifiers based on applying Bayes' theorem with strong (naive) independence assumptions between the features. Naive Bayes classifiers are highly scalable, requiring a number of parameters linear in the number of variables (features) in a learning problem. Reference Wikipedia.\n",
    "\n",
    "The model generated confidence score is the lowest among the models evaluated so far."
   ]
  },
  {
   "cell_type": "code",
   "execution_count": 46,
   "id": "aa227152",
   "metadata": {
    "execution": {
     "iopub.execute_input": "2024-03-21T09:45:53.113052Z",
     "iopub.status.busy": "2024-03-21T09:45:53.112245Z",
     "iopub.status.idle": "2024-03-21T09:45:53.129475Z",
     "shell.execute_reply": "2024-03-21T09:45:53.128328Z"
    },
    "papermill": {
     "duration": 0.061404,
     "end_time": "2024-03-21T09:45:53.132021",
     "exception": false,
     "start_time": "2024-03-21T09:45:53.070617",
     "status": "completed"
    },
    "tags": []
   },
   "outputs": [
    {
     "data": {
      "text/plain": [
       "72.28"
      ]
     },
     "execution_count": 46,
     "metadata": {},
     "output_type": "execute_result"
    }
   ],
   "source": [
    "# Gaussian Naive Bayes\n",
    "from sklearn.naive_bayes import GaussianNB\n",
    "\n",
    "gaussian = GaussianNB()\n",
    "gaussian.fit(X_train, Y_train)\n",
    "Y_pred = gaussian.predict(X_test)\n",
    "acc_gaussian = round(gaussian.score(X_train, Y_train) * 100, 2)\n",
    "acc_gaussian"
   ]
  },
  {
   "cell_type": "markdown",
   "id": "50bf43d8",
   "metadata": {
    "papermill": {
     "duration": 0.03929,
     "end_time": "2024-03-21T09:45:53.210711",
     "exception": false,
     "start_time": "2024-03-21T09:45:53.171421",
     "status": "completed"
    },
    "tags": []
   },
   "source": [
    "## Binary classifiers\n",
    "The perceptron is an algorithm for supervised learning of **binary classifiers** (functions that can decide whether an input, represented by a vector of numbers, belongs to some specific class or not). It is a type of linear classifier, i.e. a classification algorithm that makes its predictions based on a linear predictor function combining a set of weights with the feature vector. The algorithm allows for online learning, in that it processes elements in the training set one at a time. Reference Wikipedia."
   ]
  },
  {
   "cell_type": "code",
   "execution_count": 47,
   "id": "6d29ec98",
   "metadata": {
    "execution": {
     "iopub.execute_input": "2024-03-21T09:45:53.293396Z",
     "iopub.status.busy": "2024-03-21T09:45:53.293000Z",
     "iopub.status.idle": "2024-03-21T09:45:53.313701Z",
     "shell.execute_reply": "2024-03-21T09:45:53.312375Z"
    },
    "papermill": {
     "duration": 0.06666,
     "end_time": "2024-03-21T09:45:53.316796",
     "exception": false,
     "start_time": "2024-03-21T09:45:53.250136",
     "status": "completed"
    },
    "tags": []
   },
   "outputs": [
    {
     "data": {
      "text/plain": [
       "78.34"
      ]
     },
     "execution_count": 47,
     "metadata": {},
     "output_type": "execute_result"
    }
   ],
   "source": [
    "# Perceptron\n",
    "from sklearn.linear_model import Perceptron\n",
    "\n",
    "perceptron = Perceptron()\n",
    "perceptron.fit(X_train, Y_train)\n",
    "Y_pred = perceptron.predict(X_test)\n",
    "acc_perceptron = round(perceptron.score(X_train, Y_train) * 100, 2)\n",
    "acc_perceptron"
   ]
  },
  {
   "cell_type": "markdown",
   "id": "1284ccaf",
   "metadata": {
    "papermill": {
     "duration": 0.039068,
     "end_time": "2024-03-21T09:45:53.395441",
     "exception": false,
     "start_time": "2024-03-21T09:45:53.356373",
     "status": "completed"
    },
    "tags": []
   },
   "source": [
    "## Linear SVC"
   ]
  },
  {
   "cell_type": "code",
   "execution_count": 48,
   "id": "d34d4849",
   "metadata": {
    "execution": {
     "iopub.execute_input": "2024-03-21T09:45:53.475826Z",
     "iopub.status.busy": "2024-03-21T09:45:53.475391Z",
     "iopub.status.idle": "2024-03-21T09:45:53.545322Z",
     "shell.execute_reply": "2024-03-21T09:45:53.543876Z"
    },
    "papermill": {
     "duration": 0.113389,
     "end_time": "2024-03-21T09:45:53.548241",
     "exception": false,
     "start_time": "2024-03-21T09:45:53.434852",
     "status": "completed"
    },
    "tags": []
   },
   "outputs": [
    {
     "name": "stderr",
     "output_type": "stream",
     "text": [
      "/opt/conda/lib/python3.10/site-packages/sklearn/svm/_base.py:1244: ConvergenceWarning: Liblinear failed to converge, increase the number of iterations.\n",
      "  warnings.warn(\n"
     ]
    },
    {
     "data": {
      "text/plain": [
       "79.01"
      ]
     },
     "execution_count": 48,
     "metadata": {},
     "output_type": "execute_result"
    }
   ],
   "source": [
    "# Linear SVC\n",
    "from sklearn.svm import SVC, LinearSVC\n",
    "\n",
    "linear_svc = LinearSVC()\n",
    "linear_svc.fit(X_train, Y_train)\n",
    "Y_pred = linear_svc.predict(X_test)\n",
    "acc_linear_svc = round(linear_svc.score(X_train, Y_train) * 100, 2)\n",
    "acc_linear_svc"
   ]
  },
  {
   "cell_type": "markdown",
   "id": "e6511d50",
   "metadata": {
    "papermill": {
     "duration": 0.040402,
     "end_time": "2024-03-21T09:45:53.628259",
     "exception": false,
     "start_time": "2024-03-21T09:45:53.587857",
     "status": "completed"
    },
    "tags": []
   },
   "source": [
    "## Stochastic Gradient Descent"
   ]
  },
  {
   "cell_type": "code",
   "execution_count": 49,
   "id": "abbd4c9a",
   "metadata": {
    "execution": {
     "iopub.execute_input": "2024-03-21T09:45:53.710971Z",
     "iopub.status.busy": "2024-03-21T09:45:53.710539Z",
     "iopub.status.idle": "2024-03-21T09:45:53.727565Z",
     "shell.execute_reply": "2024-03-21T09:45:53.726640Z"
    },
    "papermill": {
     "duration": 0.061097,
     "end_time": "2024-03-21T09:45:53.730202",
     "exception": false,
     "start_time": "2024-03-21T09:45:53.669105",
     "status": "completed"
    },
    "tags": []
   },
   "outputs": [
    {
     "data": {
      "text/plain": [
       "74.3"
      ]
     },
     "execution_count": 49,
     "metadata": {},
     "output_type": "execute_result"
    }
   ],
   "source": [
    "# Stochastic Gradient Descent\n",
    "from sklearn.linear_model import SGDClassifier\n",
    "\n",
    "sgd = SGDClassifier()\n",
    "sgd.fit(X_train, Y_train)\n",
    "Y_pred = sgd.predict(X_test)\n",
    "acc_sgd = round(sgd.score(X_train, Y_train) * 100, 2)\n",
    "acc_sgd"
   ]
  },
  {
   "cell_type": "markdown",
   "id": "21ae56d2",
   "metadata": {
    "papermill": {
     "duration": 0.042965,
     "end_time": "2024-03-21T09:45:53.816692",
     "exception": false,
     "start_time": "2024-03-21T09:45:53.773727",
     "status": "completed"
    },
    "tags": []
   },
   "source": [
    "## Decision Tree\n",
    "This model uses a decision tree as a predictive model which maps features (tree branches) to conclusions about the target value (tree leaves). **Tree models** where the target variable can take a finite set of values are called classification trees; in these tree structures, leaves represent class labels and branches represent conjunctions of features that lead to those class labels. Decision trees where the target variable can take continuous values (typically real numbers) are called regression trees. Reference Wikipedia.\n",
    "\n",
    "The model confidence score is the highest among models evaluated so far."
   ]
  },
  {
   "cell_type": "code",
   "execution_count": 50,
   "id": "de93aebc",
   "metadata": {
    "execution": {
     "iopub.execute_input": "2024-03-21T09:45:53.902304Z",
     "iopub.status.busy": "2024-03-21T09:45:53.901932Z",
     "iopub.status.idle": "2024-03-21T09:45:53.921682Z",
     "shell.execute_reply": "2024-03-21T09:45:53.920716Z"
    },
    "papermill": {
     "duration": 0.063603,
     "end_time": "2024-03-21T09:45:53.923922",
     "exception": false,
     "start_time": "2024-03-21T09:45:53.860319",
     "status": "completed"
    },
    "tags": []
   },
   "outputs": [
    {
     "data": {
      "text/plain": [
       "86.76"
      ]
     },
     "execution_count": 50,
     "metadata": {},
     "output_type": "execute_result"
    }
   ],
   "source": [
    "# Decision Tree\n",
    "from sklearn.tree import DecisionTreeClassifier\n",
    "\n",
    "decision_tree = DecisionTreeClassifier()\n",
    "decision_tree.fit(X_train, Y_train)\n",
    "Y_pred = decision_tree.predict(X_test)\n",
    "acc_decision_tree = round(decision_tree.score(X_train, Y_train) * 100, 2)\n",
    "acc_decision_tree"
   ]
  },
  {
   "cell_type": "markdown",
   "id": "e3899e45",
   "metadata": {
    "papermill": {
     "duration": 0.040686,
     "end_time": "2024-03-21T09:45:54.005503",
     "exception": false,
     "start_time": "2024-03-21T09:45:53.964817",
     "status": "completed"
    },
    "tags": []
   },
   "source": [
    "## Random Forests\n",
    "The next model **Random Forests** *is one of the most popular*. Random forests or random decision forests are an ensemble learning method for classification, regression and other tasks, that operate by constructing a multitude of decision trees (n_estimators=100) at training time and outputting the class that is the mode of the classes (classification) or mean prediction (regression) of the individual trees. \n",
    "\n",
    "The model confidence score is the highest among models evaluated so far. We decide to use this model's output (Y_pred) for creating our competition submission of results."
   ]
  },
  {
   "cell_type": "code",
   "execution_count": 51,
   "id": "b4690cc7",
   "metadata": {
    "execution": {
     "iopub.execute_input": "2024-03-21T09:45:54.088469Z",
     "iopub.status.busy": "2024-03-21T09:45:54.087746Z",
     "iopub.status.idle": "2024-03-21T09:45:55.689458Z",
     "shell.execute_reply": "2024-03-21T09:45:55.688545Z"
    },
    "papermill": {
     "duration": 1.645542,
     "end_time": "2024-03-21T09:45:55.691984",
     "exception": false,
     "start_time": "2024-03-21T09:45:54.046442",
     "status": "completed"
    },
    "tags": []
   },
   "outputs": [
    {
     "data": {
      "text/plain": [
       "86.76"
      ]
     },
     "execution_count": 51,
     "metadata": {},
     "output_type": "execute_result"
    }
   ],
   "source": [
    "# Random Forest\n",
    "from sklearn.ensemble import RandomForestClassifier\n",
    "\n",
    "random_forest = RandomForestClassifier(n_estimators=500)\n",
    "random_forest.fit(X_train, Y_train)\n",
    "Y_pred = random_forest.predict(X_test)\n",
    "random_forest.score(X_train, Y_train)\n",
    "acc_random_forest = round(random_forest.score(X_train, Y_train) * 100, 2)\n",
    "acc_random_forest"
   ]
  },
  {
   "cell_type": "markdown",
   "id": "ddfc934d",
   "metadata": {
    "papermill": {
     "duration": 0.039828,
     "end_time": "2024-03-21T09:45:55.772878",
     "exception": false,
     "start_time": "2024-03-21T09:45:55.733050",
     "status": "completed"
    },
    "tags": []
   },
   "source": [
    "## Model evaluation¶\n",
    "We can now rank our evaluation of all the models to choose the best one for our problem. While both Decision Tree and Random Forest score the same, we choose to use Random Forest as they correct for decision trees' habit of overfitting to their training set."
   ]
  },
  {
   "cell_type": "code",
   "execution_count": 52,
   "id": "1fe1afc2",
   "metadata": {
    "execution": {
     "iopub.execute_input": "2024-03-21T09:45:55.855804Z",
     "iopub.status.busy": "2024-03-21T09:45:55.854870Z",
     "iopub.status.idle": "2024-03-21T09:45:55.869324Z",
     "shell.execute_reply": "2024-03-21T09:45:55.868468Z"
    },
    "papermill": {
     "duration": 0.058218,
     "end_time": "2024-03-21T09:45:55.871673",
     "exception": false,
     "start_time": "2024-03-21T09:45:55.813455",
     "status": "completed"
    },
    "tags": []
   },
   "outputs": [
    {
     "data": {
      "text/html": [
       "<div>\n",
       "<style scoped>\n",
       "    .dataframe tbody tr th:only-of-type {\n",
       "        vertical-align: middle;\n",
       "    }\n",
       "\n",
       "    .dataframe tbody tr th {\n",
       "        vertical-align: top;\n",
       "    }\n",
       "\n",
       "    .dataframe thead th {\n",
       "        text-align: right;\n",
       "    }\n",
       "</style>\n",
       "<table border=\"1\" class=\"dataframe\">\n",
       "  <thead>\n",
       "    <tr style=\"text-align: right;\">\n",
       "      <th></th>\n",
       "      <th>Model</th>\n",
       "      <th>Score</th>\n",
       "    </tr>\n",
       "  </thead>\n",
       "  <tbody>\n",
       "    <tr>\n",
       "      <th>3</th>\n",
       "      <td>Random Forest</td>\n",
       "      <td>86.76</td>\n",
       "    </tr>\n",
       "    <tr>\n",
       "      <th>8</th>\n",
       "      <td>Decision Tree</td>\n",
       "      <td>86.76</td>\n",
       "    </tr>\n",
       "    <tr>\n",
       "      <th>1</th>\n",
       "      <td>KNN</td>\n",
       "      <td>84.74</td>\n",
       "    </tr>\n",
       "    <tr>\n",
       "      <th>0</th>\n",
       "      <td>Support Vector Machines</td>\n",
       "      <td>83.84</td>\n",
       "    </tr>\n",
       "    <tr>\n",
       "      <th>2</th>\n",
       "      <td>Logistic Regression</td>\n",
       "      <td>80.36</td>\n",
       "    </tr>\n",
       "    <tr>\n",
       "      <th>7</th>\n",
       "      <td>Linear SVC</td>\n",
       "      <td>79.01</td>\n",
       "    </tr>\n",
       "    <tr>\n",
       "      <th>5</th>\n",
       "      <td>Perceptron</td>\n",
       "      <td>78.34</td>\n",
       "    </tr>\n",
       "    <tr>\n",
       "      <th>6</th>\n",
       "      <td>Stochastic Gradient Decent</td>\n",
       "      <td>74.30</td>\n",
       "    </tr>\n",
       "    <tr>\n",
       "      <th>4</th>\n",
       "      <td>Naive Bayes</td>\n",
       "      <td>72.28</td>\n",
       "    </tr>\n",
       "  </tbody>\n",
       "</table>\n",
       "</div>"
      ],
      "text/plain": [
       "                        Model  Score\n",
       "3               Random Forest  86.76\n",
       "8               Decision Tree  86.76\n",
       "1                         KNN  84.74\n",
       "0     Support Vector Machines  83.84\n",
       "2         Logistic Regression  80.36\n",
       "7                  Linear SVC  79.01\n",
       "5                  Perceptron  78.34\n",
       "6  Stochastic Gradient Decent  74.30\n",
       "4                 Naive Bayes  72.28"
      ]
     },
     "execution_count": 52,
     "metadata": {},
     "output_type": "execute_result"
    }
   ],
   "source": [
    "models = pd.DataFrame({\n",
    "    'Model': ['Support Vector Machines', 'KNN', 'Logistic Regression', \n",
    "              'Random Forest', 'Naive Bayes', 'Perceptron', \n",
    "              'Stochastic Gradient Decent', 'Linear SVC', \n",
    "              'Decision Tree'],\n",
    "    'Score': [acc_svc, acc_knn, acc_log, \n",
    "              acc_random_forest, acc_gaussian, acc_perceptron, \n",
    "              acc_sgd, acc_linear_svc, acc_decision_tree]})\n",
    "models.sort_values(by='Score', ascending=False)"
   ]
  },
  {
   "cell_type": "code",
   "execution_count": 53,
   "id": "885fb483",
   "metadata": {
    "execution": {
     "iopub.execute_input": "2024-03-21T09:45:55.955255Z",
     "iopub.status.busy": "2024-03-21T09:45:55.954568Z",
     "iopub.status.idle": "2024-03-21T09:45:55.963625Z",
     "shell.execute_reply": "2024-03-21T09:45:55.962780Z"
    },
    "papermill": {
     "duration": 0.053788,
     "end_time": "2024-03-21T09:45:55.966154",
     "exception": false,
     "start_time": "2024-03-21T09:45:55.912366",
     "status": "completed"
    },
    "tags": []
   },
   "outputs": [],
   "source": [
    "submission = pd.DataFrame({\n",
    "        \"PassengerId\": test_df[\"PassengerId\"],\n",
    "        \"Survived\": Y_pred\n",
    "    })\n",
    "submission.to_csv('submission.csv', index=False)\n"
   ]
  },
  {
   "cell_type": "markdown",
   "id": "114ea1b5",
   "metadata": {
    "papermill": {
     "duration": 0.040626,
     "end_time": "2024-03-21T09:45:56.047251",
     "exception": false,
     "start_time": "2024-03-21T09:45:56.006625",
     "status": "completed"
    },
    "tags": []
   },
   "source": [
    "Josue Gomez Parada\n",
    "0.77990 🙂 Your Best Entry! With the \n"
   ]
  }
 ],
 "metadata": {
  "kaggle": {
   "accelerator": "none",
   "dataSources": [
    {
     "databundleVersionId": 26502,
     "sourceId": 3136,
     "sourceType": "competition"
    }
   ],
   "dockerImageVersionId": 30664,
   "isGpuEnabled": false,
   "isInternetEnabled": true,
   "language": "python",
   "sourceType": "notebook"
  },
  "kernelspec": {
   "display_name": "Python 3",
   "language": "python",
   "name": "python3"
  },
  "language_info": {
   "codemirror_mode": {
    "name": "ipython",
    "version": 3
   },
   "file_extension": ".py",
   "mimetype": "text/x-python",
   "name": "python",
   "nbconvert_exporter": "python",
   "pygments_lexer": "ipython3",
   "version": "3.10.13"
  },
  "papermill": {
   "default_parameters": {},
   "duration": 29.249734,
   "end_time": "2024-03-21T09:45:56.810432",
   "environment_variables": {},
   "exception": null,
   "input_path": "__notebook__.ipynb",
   "output_path": "__notebook__.ipynb",
   "parameters": {},
   "start_time": "2024-03-21T09:45:27.560698",
   "version": "2.5.0"
  }
 },
 "nbformat": 4,
 "nbformat_minor": 5
}
